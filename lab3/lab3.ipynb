{
 "cells": [
  {
   "cell_type": "markdown",
   "metadata": {
    "colab_type": "text",
    "id": "5hx8G0HW7nMw"
   },
   "source": [
    "# COMP3222/6246 Machine Learning Technologies (2018/19)\n",
    "## Week 6 – Decision Trees, Random Forests, Ensemble Learning\n",
    "\n",
    "Follow each code block at your own pace, you can have a look at the book or ask questions to demonstrators if you find something confusing."
   ]
  },
  {
   "cell_type": "markdown",
   "metadata": {
    "colab_type": "text",
    "id": "tDZdBUac7nMy"
   },
   "source": [
    "# Chapter 6 - Decision Trees\n",
    "\"_Decision Trees_ are versatile Machine Learning algorithms that can perform both classification and regression tasks, and even multioutput tasks.\" [Geron2017] "
   ]
  },
  {
   "cell_type": "code",
   "execution_count": 2,
   "metadata": {
    "colab": {},
    "colab_type": "code",
    "id": "CXcDNmbD7nM0"
   },
   "outputs": [],
   "source": [
    "%matplotlib inline\n",
    "\n",
    "    \n",
    "import numpy as np\n",
    "\n",
    "np.random.seed(42) # to ensure our results exactly like the book"
   ]
  },
  {
   "cell_type": "markdown",
   "metadata": {
    "colab_type": "text",
    "id": "ZxQsC_af7nM9"
   },
   "source": [
    "## 6.1 Training and Visualizing a Decision Tree\n",
    "\n",
    "First, let's load the iris dataset from sci-kit learn library."
   ]
  },
  {
   "cell_type": "code",
   "execution_count": 3,
   "metadata": {
    "colab": {},
    "colab_type": "code",
    "id": "tcO_eZHO7nM_"
   },
   "outputs": [],
   "source": [
    "from sklearn.datasets import load_iris\n",
    "from sklearn.tree import DecisionTreeClassifier\n",
    "\n",
    "iris = load_iris()"
   ]
  },
  {
   "cell_type": "markdown",
   "metadata": {
    "colab_type": "text",
    "id": "bTGUf5oO7nND"
   },
   "source": [
    "### 6.1.1 Determine Targets\n",
    "\n",
    "Let's determine which columns will be in our interest and print them."
   ]
  },
  {
   "cell_type": "code",
   "execution_count": 4,
   "metadata": {
    "colab": {
     "base_uri": "https://localhost:8080/",
     "height": 52
    },
    "colab_type": "code",
    "executionInfo": {
     "elapsed": 555,
     "status": "ok",
     "timestamp": 1538586401674,
     "user": {
      "displayName": "Taha Doğan Güneş",
      "photoUrl": "",
      "userId": "11032505847365814490"
     },
     "user_tz": -60
    },
    "id": "3-wvX_mk7nNF",
    "outputId": "54a42223-9318-4da7-d5d0-35a7683290a8"
   },
   "outputs": [
    {
     "name": "stdout",
     "output_type": "stream",
     "text": [
      "given: ['petal length (cm)', 'petal width (cm)'] \n",
      "predict whether: ['setosa' 'versicolor' 'virginica']\n"
     ]
    }
   ],
   "source": [
    "X = iris.data[:, 2:] # only focus on petal length and width\n",
    "Y = iris.target\n",
    "feature_names = iris.feature_names[2:]\n",
    "print(\"given:\",feature_names, \n",
    "      \"\\npredict whether:\", iris.target_names)\n"
   ]
  },
  {
   "cell_type": "markdown",
   "metadata": {
    "colab_type": "text",
    "id": "YsIa_ZmrkmO2"
   },
   "source": [
    "### Exercise 6.1.1: Plot the data set\n",
    "Plot the data set and have a look at the two features that are selected."
   ]
  },
  {
   "cell_type": "code",
   "execution_count": 5,
   "metadata": {
    "colab": {},
    "colab_type": "code",
    "id": "Q5c1MpN_k0Kn"
   },
   "outputs": [],
   "source": [
    "# use matplotlib as you did on previous labs"
   ]
  },
  {
   "cell_type": "markdown",
   "metadata": {
    "colab_type": "text",
    "id": "xhQw5QuCFoSn"
   },
   "source": [
    "### 6.1.2 Train the dataset\n",
    "Without separating the dataset as we did in previous labs, let's use all the data set and train the decision tree."
   ]
  },
  {
   "cell_type": "code",
   "execution_count": 6,
   "metadata": {
    "colab": {
     "base_uri": "https://localhost:8080/",
     "height": 121
    },
    "colab_type": "code",
    "executionInfo": {
     "elapsed": 493,
     "status": "ok",
     "timestamp": 1538586402809,
     "user": {
      "displayName": "Taha Doğan Güneş",
      "photoUrl": "",
      "userId": "11032505847365814490"
     },
     "user_tz": -60
    },
    "id": "KcMwAtTh7nNP",
    "outputId": "3758f93d-db5a-42e2-da30-53b1d67c5ae2"
   },
   "outputs": [
    {
     "data": {
      "text/plain": [
       "DecisionTreeClassifier(class_weight=None, criterion='gini', max_depth=2,\n",
       "            max_features=None, max_leaf_nodes=None,\n",
       "            min_impurity_decrease=0.0, min_impurity_split=None,\n",
       "            min_samples_leaf=1, min_samples_split=2,\n",
       "            min_weight_fraction_leaf=0.0, presort=False, random_state=None,\n",
       "            splitter='best')"
      ]
     },
     "execution_count": 6,
     "metadata": {},
     "output_type": "execute_result"
    }
   ],
   "source": [
    "tree_clf = DecisionTreeClassifier(max_depth=2)\n",
    "tree_clf.fit(X,Y)"
   ]
  },
  {
   "cell_type": "markdown",
   "metadata": {
    "colab_type": "text",
    "id": "QBIrQaW2ig52"
   },
   "source": [
    "There are many hyperparameters that a decision tree classifier has. You can see from the ouput above the parameters that will be used for predictions. Two criterions that you can use with decision trees in sci-kit learn.  These metrics are calculated in each node of decision tree.\n",
    "* **Gini impurity** `criterion='gini'` is a measure of how often a randomly chosen element from a set would be incorrectly labeled. Formally it is computed by:\n",
    "$$\n",
    "I_G(p) = \\sum_{i=1}^{J} p_i \\sum_{k \\neq i} p_k\n",
    "$$\n",
    "where $J$ denotes classes and $p_i$ is the fraction of items which are labeled with class $i$. For a concrete example have a look: https://stats.stackexchange.com/a/339514\n",
    "* **Information Gain** `criterion='entropy'` is a mesaure of entropy, which is used in thermodynamics as a measure of molecular disorder. Entropy=0 means the molecules are well ordered.   \n",
    "$$\n",
    "H(T) = I_E(p)=-\\sum_{i=1}^{J}p_i\\log_2 p_i\n",
    "$$\n",
    "$p_1, p_2, ...$ as in gini impurity are the fractions that add up to 1. \n",
    "\n",
    "These two metrics are used for deciding the splits while training a decision tree."
   ]
  },
  {
   "cell_type": "markdown",
   "metadata": {
    "colab_type": "text",
    "id": "Ch-Xkg7fmz-Y"
   },
   "source": [
    "### Exercise 6.1.2: Gini or Entropy\n",
    "* Should you use Gini impurity or entropy?\n",
    "* Which one is faster to compute and why?\n",
    "* Visualize the tree that you trained above in 6.1.2. \n",
    "  * Why does _gini impurity_ metric decrease in deeper nodes? \n",
    "  * Which cases do you see that the metric is zero?"
   ]
  },
  {
   "cell_type": "markdown",
   "metadata": {
    "colab_type": "text",
    "id": "jYDF4c9no7Iq"
   },
   "source": [
    "*Your answer here*"
   ]
  },
  {
   "cell_type": "markdown",
   "metadata": {
    "colab_type": "text",
    "id": "Y2BjmlIS7nNV"
   },
   "source": [
    "### 6.1.2 Visualization\n",
    "\n",
    "You can export the decision tree as a `dot` file from sci-kit learn. You can convert `dot` to `png` image by installing `graphviz`."
   ]
  },
  {
   "cell_type": "code",
   "execution_count": 7,
   "metadata": {
    "colab": {},
    "colab_type": "code",
    "id": "CRoaE_my7nNW"
   },
   "outputs": [],
   "source": [
    "from sklearn.tree import export_graphviz\n",
    "export_graphviz(tree_clf,\n",
    "                out_file=\"iris_tree.dot\",\n",
    "                feature_names=feature_names,\n",
    "                class_names=iris.target_names,\n",
    "                rounded=True,\n",
    "                filled=True\n",
    "               )"
   ]
  },
  {
   "cell_type": "code",
   "execution_count": 8,
   "metadata": {
    "colab": {
     "base_uri": "https://localhost:8080/",
     "height": 104
    },
    "colab_type": "code",
    "executionInfo": {
     "elapsed": 3631,
     "status": "ok",
     "timestamp": 1538586407071,
     "user": {
      "displayName": "Taha Doğan Güneş",
      "photoUrl": "",
      "userId": "11032505847365814490"
     },
     "user_tz": -60
    },
    "id": "8_moJbuJ7nNb",
    "outputId": "cd42d83d-8213-4c09-c34a-443795376921"
   },
   "outputs": [
    {
     "name": "stdout",
     "output_type": "stream",
     "text": [
      "E: Could not open lock file /var/lib/dpkg/lock - open (13: Permission denied)\r\n",
      "E: Unable to lock the administration directory (/var/lib/dpkg/), are you root?\r\n"
     ]
    }
   ],
   "source": [
    "# Make sure you installed graphviz (exclamation mark is for shell commands)\n",
    "!apt install graphviz \n",
    "\n",
    "# Convert dot file to png file.\n",
    "!dot -Tpng iris_tree.dot -o iris_tree.png"
   ]
  },
  {
   "cell_type": "code",
   "execution_count": 9,
   "metadata": {
    "colab": {
     "base_uri": "https://localhost:8080/",
     "height": 436
    },
    "colab_type": "code",
    "executionInfo": {
     "elapsed": 695,
     "status": "ok",
     "timestamp": 1538586407797,
     "user": {
      "displayName": "Taha Doğan Güneş",
      "photoUrl": "",
      "userId": "11032505847365814490"
     },
     "user_tz": -60
    },
    "id": "7EBypWqu7nNh",
    "outputId": "07f9838c-291d-4ada-c510-687122a42553"
   },
   "outputs": [
    {
     "data": {
      "image/png": "[encoded data removed]",
      "text/plain": [
       "<IPython.core.display.Image object>"
      ]
     },
     "execution_count": 9,
     "metadata": {},
     "output_type": "execute_result"
    }
   ],
   "source": [
    "from IPython.display import Image\n",
    "Image(filename='iris_tree.png') "
   ]
  },
  {
   "cell_type": "markdown",
   "metadata": {
    "colab_type": "text",
    "id": "e-skSb-KSyE9"
   },
   "source": [
    "To see a better visualization example of decision trees, have a look at [this page](http://www.r2d3.us/visual-intro-to-machine-learning-part-1/)."
   ]
  },
  {
   "cell_type": "markdown",
   "metadata": {
    "colab_type": "text",
    "id": "YfV7xtgW4MqT"
   },
   "source": [
    "### Extra: Another way to visualize decision trees\n",
    "\n",
    "There is a brand new visualization library from creators of ANTLR (parser generator) for decision trees called [`dtreeviz`](https://github.com/parrt/dtreeviz). You can find [some other examples](https://github.com/parrt/dtreeviz/blob/master/notebooks/examples.ipynb) from their repository for better visualization. Follow the steps below:"
   ]
  },
  {
   "cell_type": "code",
   "execution_count": 10,
   "metadata": {
    "colab": {
     "base_uri": "https://localhost:8080/",
     "height": 208
    },
    "colab_type": "code",
    "executionInfo": {
     "elapsed": 4266,
     "status": "ok",
     "timestamp": 1538586412170,
     "user": {
      "displayName": "Taha Doğan Güneş",
      "photoUrl": "",
      "userId": "11032505847365814490"
     },
     "user_tz": -60
    },
    "id": "t3hCBZ5_04Ja",
    "outputId": "8497554b-4834-436e-dad0-ce777ace298b"
   },
   "outputs": [
    {
     "name": "stdout",
     "output_type": "stream",
     "text": [
      "Requirement already satisfied: dtreeviz in /home/tdgunes/Projects/COMP6246-2018Fall/.venv/lib/python3.6/site-packages (0.2)\n",
      "Requirement already satisfied: pandas in /home/tdgunes/Projects/COMP6246-2018Fall/.venv/lib/python3.6/site-packages (from dtreeviz) (0.23.4)\n",
      "Requirement already satisfied: matplotlib in /home/tdgunes/Projects/COMP6246-2018Fall/.venv/lib/python3.6/site-packages (from dtreeviz) (3.0.0)\n",
      "Requirement already satisfied: scikit-learn in /home/tdgunes/Projects/COMP6246-2018Fall/.venv/lib/python3.6/site-packages (from dtreeviz) (0.20.0)\n",
      "Requirement already satisfied: graphviz>=0.9 in /home/tdgunes/Projects/COMP6246-2018Fall/.venv/lib/python3.6/site-packages (from dtreeviz) (0.9)\n",
      "Requirement already satisfied: numpy in /home/tdgunes/Projects/COMP6246-2018Fall/.venv/lib/python3.6/site-packages (from dtreeviz) (1.15.2)\n",
      "Requirement already satisfied: python-dateutil>=2.5.0 in /home/tdgunes/Projects/COMP6246-2018Fall/.venv/lib/python3.6/site-packages (from pandas->dtreeviz) (2.7.3)\n",
      "Requirement already satisfied: pytz>=2011k in /home/tdgunes/Projects/COMP6246-2018Fall/.venv/lib/python3.6/site-packages (from pandas->dtreeviz) (2018.5)\n",
      "Requirement already satisfied: pyparsing!=2.0.4,!=2.1.2,!=2.1.6,>=2.0.1 in /home/tdgunes/Projects/COMP6246-2018Fall/.venv/lib/python3.6/site-packages (from matplotlib->dtreeviz) (2.2.2)\n",
      "Requirement already satisfied: kiwisolver>=1.0.1 in /home/tdgunes/Projects/COMP6246-2018Fall/.venv/lib/python3.6/site-packages (from matplotlib->dtreeviz) (1.0.1)\n",
      "Requirement already satisfied: cycler>=0.10 in /home/tdgunes/Projects/COMP6246-2018Fall/.venv/lib/python3.6/site-packages (from matplotlib->dtreeviz) (0.10.0)\n",
      "Requirement already satisfied: scipy>=0.13.3 in /home/tdgunes/Projects/COMP6246-2018Fall/.venv/lib/python3.6/site-packages (from scikit-learn->dtreeviz) (1.1.0)\n",
      "Requirement already satisfied: six>=1.5 in /home/tdgunes/Projects/COMP6246-2018Fall/.venv/lib/python3.6/site-packages (from python-dateutil>=2.5.0->pandas->dtreeviz) (1.11.0)\n",
      "Requirement already satisfied: setuptools in /home/tdgunes/Projects/COMP6246-2018Fall/.venv/lib/python3.6/site-packages (from kiwisolver>=1.0.1->matplotlib->dtreeviz) (40.4.3)\n",
      "E: Could not open lock file /var/lib/dpkg/lock - open (13: Permission denied)\n",
      "E: Unable to lock the administration directory (/var/lib/dpkg/), are you root?\n"
     ]
    }
   ],
   "source": [
    "# install the package\n",
    "!pip install dtreeviz\n",
    "# (optional)\n",
    "!apt-get install msttcorefonts -qq\n"
   ]
  },
  {
   "cell_type": "code",
   "execution_count": 11,
   "metadata": {
    "colab": {
     "base_uri": "https://localhost:8080/",
     "height": 379
    },
    "colab_type": "code",
    "executionInfo": {
     "elapsed": 1522,
     "status": "ok",
     "timestamp": 1538586413732,
     "user": {
      "displayName": "Taha Doğan Güneş",
      "photoUrl": "",
      "userId": "11032505847365814490"
     },
     "user_tz": -60
    },
    "id": "KbozhjOJz16W",
    "outputId": "87ec7193-01c6-4735-8cab-1e9fba2cfad7"
   },
   "outputs": [
    {
     "name": "stderr",
     "output_type": "stream",
     "text": [
      "/home/tdgunes/Projects/COMP6246-2018Fall/.venv/lib/python3.6/site-packages/matplotlib/font_manager.py:1238: UserWarning: findfont: Font family ['Arial'] not found. Falling back to DejaVu Sans.\n",
      "  (prop.get_family(), self.defaultFamily[fontext]))\n"
     ]
    }
   ],
   "source": [
    "from dtreeviz.trees import dtreeviz\n",
    "import matplotlib as mpl\n",
    "\n",
    "mpl.rcParams['axes.facecolor'] = 'white'\n",
    "viz = dtreeviz(tree_clf,\n",
    "              X,\n",
    "              Y,\n",
    "              target_name='flower type',\n",
    "              feature_names=feature_names, \n",
    "              class_names=list(iris.target_names),\n",
    "              fancy=True, \n",
    "              orientation ='TD')\n",
    "\n",
    "# uncomment this            \n",
    "# viz"
   ]
  },
  {
   "cell_type": "markdown",
   "metadata": {
    "colab_type": "text",
    "id": "hlaZoG5T7nN3"
   },
   "source": [
    "### 6.1.3 Plot training data set"
   ]
  },
  {
   "cell_type": "code",
   "execution_count": 12,
   "metadata": {
    "colab": {
     "base_uri": "https://localhost:8080/",
     "height": 283
    },
    "colab_type": "code",
    "executionInfo": {
     "elapsed": 691,
     "status": "ok",
     "timestamp": 1538586414491,
     "user": {
      "displayName": "Taha Doğan Güneş",
      "photoUrl": "",
      "userId": "11032505847365814490"
     },
     "user_tz": -60
    },
    "id": "qTZO9J4d7nN6",
    "outputId": "5ca451a6-77a2-442f-8e98-b82bbcbc9209"
   },
   "outputs": [
    {
     "data": {
      "image/png": "[encoded data removed]",
      "text/plain": [
       "<Figure size 432x288 with 1 Axes>"
      ]
     },
     "metadata": {
      "needs_background": "light"
     },
     "output_type": "display_data"
    }
   ],
   "source": [
    "import matplotlib.pyplot as plt\n",
    "from matplotlib.colors import ListedColormap\n",
    "CUSTOM_CMAP = ListedColormap(['#fafab0','#9898ff','#a0faa0'])\n",
    " \n",
    "# helper function to plot the boundaries\n",
    "def plot_decision_boundary(clf, x, y):\n",
    "    color_map = [\"yo\", \"bs\", \"g^\"]\n",
    "    for target_index, target_name in enumerate(iris.target_names):\n",
    "        plt.plot(x[:, 0][y==target_index], # petal length on X axis (the ones that equal to target)\n",
    "                 x[:, 1][y==target_index], # petal width on Y axis (the ones that equal to target)\n",
    "                 color_map[target_index], \n",
    "                 label=target_name)\n",
    "        \n",
    "    x1s = np.linspace(np.min(x[:, 0]), np.max(x[:, 0]), 100)\n",
    "    x2s = np.linspace(np.min(x[:, 1]), np.max(x[:, 1]), 100)\n",
    "    x1, x2 = np.meshgrid(x1s, x2s)\n",
    "    x_test = np.c_[x1.ravel(), x2.ravel()]\n",
    "    y_pred = clf.predict(x_test).reshape(x1.shape)\n",
    "    plt.contourf(x1, x2, y_pred, alpha=0.3, cmap=CUSTOM_CMAP)\n",
    "\n",
    "plot_decision_boundary(tree_clf, X, Y)\n",
    "\n",
    "plt.xlabel(feature_names[0]) # petal length (cm)\n",
    "plt.ylabel(feature_names[1]) # petal width (cm)\n",
    "plt.show()"
   ]
  },
  {
   "cell_type": "markdown",
   "metadata": {
    "colab_type": "text",
    "id": "f5Nsdt2f7nOB"
   },
   "source": [
    "### Exercise 6.1: Plot decision boundaries\n",
    "1. Write down which colour correspond to which node in the decision tree.\n",
    "2. Try to increase/decrease `max_depth` of decision tree classifier and observe the changes in the decision boundaries. What would you set `max_depth`?\n",
    "3. If the helper function (`plot_decision_boundary`) was not available to you, how would you visualize the decision boundaries? Tip:  try to create X's that ranges from $[1, 0]$ to $[7, 2.5]$ where. You can use:  \n"
   ]
  },
  {
   "cell_type": "code",
   "execution_count": 13,
   "metadata": {
    "colab": {
     "base_uri": "https://localhost:8080/",
     "height": 885
    },
    "colab_type": "code",
    "executionInfo": {
     "elapsed": 513,
     "status": "ok",
     "timestamp": 1538586415131,
     "user": {
      "displayName": "Taha Doğan Güneş",
      "photoUrl": "",
      "userId": "11032505847365814490"
     },
     "user_tz": -60
    },
    "id": "xrXUPAZFHbWU",
    "outputId": "9a31e643-f556-4642-be9d-a15bcbedd91f"
   },
   "outputs": [
    {
     "data": {
      "text/plain": [
       "array([[ 0, -5],\n",
       "       [ 0, -4],\n",
       "       [ 0, -3],\n",
       "       [ 0, -2],\n",
       "       [ 0, -1],\n",
       "       [ 1, -5],\n",
       "       [ 1, -4],\n",
       "       [ 1, -3],\n",
       "       [ 1, -2],\n",
       "       [ 1, -1],\n",
       "       [ 2, -5],\n",
       "       [ 2, -4],\n",
       "       [ 2, -3],\n",
       "       [ 2, -2],\n",
       "       [ 2, -1],\n",
       "       [ 3, -5],\n",
       "       [ 3, -4],\n",
       "       [ 3, -3],\n",
       "       [ 3, -2],\n",
       "       [ 3, -1],\n",
       "       [ 4, -5],\n",
       "       [ 4, -4],\n",
       "       [ 4, -3],\n",
       "       [ 4, -2],\n",
       "       [ 4, -1],\n",
       "       [ 5, -5],\n",
       "       [ 5, -4],\n",
       "       [ 5, -3],\n",
       "       [ 5, -2],\n",
       "       [ 5, -1],\n",
       "       [ 6, -5],\n",
       "       [ 6, -4],\n",
       "       [ 6, -3],\n",
       "       [ 6, -2],\n",
       "       [ 6, -1],\n",
       "       [ 7, -5],\n",
       "       [ 7, -4],\n",
       "       [ 7, -3],\n",
       "       [ 7, -2],\n",
       "       [ 7, -1],\n",
       "       [ 8, -5],\n",
       "       [ 8, -4],\n",
       "       [ 8, -3],\n",
       "       [ 8, -2],\n",
       "       [ 8, -1],\n",
       "       [ 9, -5],\n",
       "       [ 9, -4],\n",
       "       [ 9, -3],\n",
       "       [ 9, -2],\n",
       "       [ 9, -1]])"
      ]
     },
     "execution_count": 13,
     "metadata": {},
     "output_type": "execute_result"
    }
   ],
   "source": [
    "# check np.mgrid[minX1:maxX1:increment, minX2:maxX2:increment]\n",
    "X = np.mgrid[0:10:1, -5:0:1].reshape(2,-1).T\n",
    "X"
   ]
  },
  {
   "cell_type": "markdown",
   "metadata": {
    "colab_type": "text",
    "id": "cUZfci6z7nOD"
   },
   "source": [
    "### Exercise 6.1a: Solution"
   ]
  },
  {
   "cell_type": "code",
   "execution_count": 14,
   "metadata": {
    "colab": {},
    "colab_type": "code",
    "id": "X8uJArP67nOE"
   },
   "outputs": [],
   "source": [
    "# Tip: try each point in the space \n",
    "\n",
    "\n"
   ]
  },
  {
   "cell_type": "markdown",
   "metadata": {
    "colab_type": "text",
    "id": "2gEfRtzg7nOK"
   },
   "source": [
    "### 6.1.4 Estimating Class Probabilities\n",
    "To estimate the probability of an instance belongs to a class, you can use `predict_proba`, to determine the class that an instance will be assigned to use `predict`. "
   ]
  },
  {
   "cell_type": "code",
   "execution_count": 15,
   "metadata": {
    "colab": {
     "base_uri": "https://localhost:8080/",
     "height": 34
    },
    "colab_type": "code",
    "executionInfo": {
     "elapsed": 515,
     "status": "ok",
     "timestamp": 1538586416386,
     "user": {
      "displayName": "Taha Doğan Güneş",
      "photoUrl": "",
      "userId": "11032505847365814490"
     },
     "user_tz": -60
    },
    "id": "fAaQ6wjv7nOL",
    "outputId": "62d7bc5b-b1f5-40c4-e377-31a3ac626fee"
   },
   "outputs": [
    {
     "data": {
      "text/plain": [
       "array([[0.        , 0.90740741, 0.09259259]])"
      ]
     },
     "execution_count": 15,
     "metadata": {},
     "output_type": "execute_result"
    }
   ],
   "source": [
    "tree_clf.predict_proba([[5, 1.5]])"
   ]
  },
  {
   "cell_type": "code",
   "execution_count": 16,
   "metadata": {
    "colab": {
     "base_uri": "https://localhost:8080/",
     "height": 34
    },
    "colab_type": "code",
    "executionInfo": {
     "elapsed": 830,
     "status": "ok",
     "timestamp": 1538586417287,
     "user": {
      "displayName": "Taha Doğan Güneş",
      "photoUrl": "",
      "userId": "11032505847365814490"
     },
     "user_tz": -60
    },
    "id": "8wudhPfE7nOU",
    "outputId": "db98507b-6d71-4f93-8718-6cb7f1f16244"
   },
   "outputs": [
    {
     "data": {
      "text/plain": [
       "array([1])"
      ]
     },
     "execution_count": 16,
     "metadata": {},
     "output_type": "execute_result"
    }
   ],
   "source": [
    "tree_clf.predict([[5, 1.5]])"
   ]
  },
  {
   "cell_type": "markdown",
   "metadata": {
    "colab_type": "text",
    "id": "C4WSF5a07nOZ"
   },
   "source": [
    "### 6.1.5 Regularization Hyperparameters\n",
    "\"Constraining a model to make it simpler and reduce the risk of overfitting is called _regularization\"  [Geron2017, page 27]  To avoid [overfitting](https://en.wikipedia.org/wiki/Overfitting), you can limit the generation of a node by `min_samples_leaf` (the minimum samples that a node must have to able to be splitted.). \n"
   ]
  },
  {
   "cell_type": "code",
   "execution_count": 17,
   "metadata": {
    "colab": {
     "base_uri": "https://localhost:8080/",
     "height": 304
    },
    "colab_type": "code",
    "executionInfo": {
     "elapsed": 1199,
     "status": "ok",
     "timestamp": 1538586418556,
     "user": {
      "displayName": "Taha Doğan Güneş",
      "photoUrl": "",
      "userId": "11032505847365814490"
     },
     "user_tz": -60
    },
    "id": "uVMVIyXJ7nOa",
    "outputId": "37d68f37-d12a-4b36-cc6c-57bd8f7f375c"
   },
   "outputs": [
    {
     "data": {
      "image/png": "[encoded data removed]",
      "text/plain": [
       "<Figure size 792x288 with 2 Axes>"
      ]
     },
     "metadata": {
      "needs_background": "light"
     },
     "output_type": "display_data"
    }
   ],
   "source": [
    "from sklearn.datasets import make_moons\n",
    "Xm, ym = make_moons(n_samples=100, noise=0.25, random_state=53)\n",
    "\n",
    "deep_tree_clf1 = DecisionTreeClassifier(random_state=42)\n",
    "deep_tree_clf2 = DecisionTreeClassifier(min_samples_leaf=4, random_state=42)\n",
    "deep_tree_clf1.fit(Xm, ym)\n",
    "deep_tree_clf2.fit(Xm, ym)\n",
    "\n",
    "plt.figure(figsize=(11, 4))\n",
    "plt.subplot(121)\n",
    "\n",
    "plt.xlabel(r\"$x_1$\", fontsize=18)\n",
    "plt.ylabel(r\"$x_2$\", fontsize=18, rotation=0)\n",
    "plot_decision_boundary(deep_tree_clf1, Xm, ym)\n",
    "plt.title(\"No restrictions\", fontsize=16)\n",
    "plt.subplot(122)\n",
    "\n",
    "plt.xlabel(r\"$x_1$\", fontsize=18)\n",
    "plt.ylabel(r\"$x_2$\", fontsize=18, rotation=0)\n",
    "plot_decision_boundary(deep_tree_clf2, Xm, ym)\n",
    "plt.title(\"min_samples_leaf = {}\".format(deep_tree_clf2.min_samples_leaf), fontsize=14)\n",
    "\n",
    "\n",
    "plt.show()"
   ]
  },
  {
   "cell_type": "markdown",
   "metadata": {
    "colab_type": "text",
    "id": "LmyJ8f-M7nOe"
   },
   "source": [
    "## 6.2 Regression\n",
    "\n",
    "Decision trees can be used for regression tasks too. Instead of predicting a class, in regression tasks, the aim is to predict a numberic value (such as the price of a car). Assume that we have this quadratic data set with some noise:"
   ]
  },
  {
   "cell_type": "code",
   "execution_count": 18,
   "metadata": {
    "colab": {
     "base_uri": "https://localhost:8080/",
     "height": 289
    },
    "colab_type": "code",
    "executionInfo": {
     "elapsed": 839,
     "status": "ok",
     "timestamp": 1538586419458,
     "user": {
      "displayName": "Taha Doğan Güneş",
      "photoUrl": "",
      "userId": "11032505847365814490"
     },
     "user_tz": -60
    },
    "id": "F5fJ3H7j7nOg",
    "outputId": "d4b0c8d7-da92-4ac9-e737-4cebdd84ce2c"
   },
   "outputs": [
    {
     "data": {
      "image/png": "[encoded data removed]",
      "text/plain": [
       "<Figure size 432x288 with 1 Axes>"
      ]
     },
     "metadata": {
      "needs_background": "light"
     },
     "output_type": "display_data"
    }
   ],
   "source": [
    "# Quadratic training set + noise\n",
    "np.random.seed(42)\n",
    "m = 200\n",
    "X = np.random.rand(m, 1)\n",
    "y = 4 * (X - 0.5) ** 2\n",
    "Y = y + np.random.randn(m, 1) / 10\n",
    "\n",
    "plt.plot(X, Y, \"bo\")\n",
    "plt.xlabel(\"$x_{1}$\", fontsize=18)\n",
    "plt.ylabel(\"$y$\", fontsize=18, rotation=0)\n",
    "plt.show()"
   ]
  },
  {
   "cell_type": "code",
   "execution_count": 19,
   "metadata": {
    "colab": {
     "base_uri": "https://localhost:8080/",
     "height": 104
    },
    "colab_type": "code",
    "executionInfo": {
     "elapsed": 403,
     "status": "ok",
     "timestamp": 1538586419925,
     "user": {
      "displayName": "Taha Doğan Güneş",
      "photoUrl": "",
      "userId": "11032505847365814490"
     },
     "user_tz": -60
    },
    "id": "CLquWl7q7nOn",
    "outputId": "52447483-7213-48d4-e844-f2577407f397"
   },
   "outputs": [
    {
     "data": {
      "text/plain": [
       "DecisionTreeRegressor(criterion='mse', max_depth=2, max_features=None,\n",
       "           max_leaf_nodes=None, min_impurity_decrease=0.0,\n",
       "           min_impurity_split=None, min_samples_leaf=1,\n",
       "           min_samples_split=2, min_weight_fraction_leaf=0.0,\n",
       "           presort=False, random_state=None, splitter='best')"
      ]
     },
     "execution_count": 19,
     "metadata": {},
     "output_type": "execute_result"
    }
   ],
   "source": [
    "from sklearn.tree import DecisionTreeRegressor\n",
    "tree_reg = DecisionTreeRegressor(max_depth=2)\n",
    "tree_reg.fit(X,Y)"
   ]
  },
  {
   "cell_type": "markdown",
   "metadata": {
    "colab_type": "text",
    "id": "Oi3w7bDG7nOx"
   },
   "source": [
    "### Exercise 6.2: Visualize the regression tree "
   ]
  },
  {
   "cell_type": "markdown",
   "metadata": {
    "colab_type": "text",
    "id": "0YwGxX3H7nO0"
   },
   "source": [
    "1. Visualize the regression tree same as before with _graphviz_.\n",
    "2. Plot this regression tree (Tip: try many values for x (e.g. `np.linspace(min, max, noOfPoints)`)\n",
    "3. Plot the decision boundaries of `max_depth=2` and `max_depth=3` regression trees (also try `min_samples_leaf=10`)\n",
    "4. Compare the differences on the difference plots. Notice that the average is taken in the regions which are separated by the decision tree regressor."
   ]
  },
  {
   "cell_type": "code",
   "execution_count": 20,
   "metadata": {
    "colab": {
     "base_uri": "https://localhost:8080/",
     "height": 364
    },
    "colab_type": "code",
    "executionInfo": {
     "elapsed": 498,
     "status": "ok",
     "timestamp": 1538586420515,
     "user": {
      "displayName": "Taha Doğan Güneş",
      "photoUrl": "",
      "userId": "11032505847365814490"
     },
     "user_tz": -60
    },
    "id": "OI-RQDYUI8Hs",
    "outputId": "2c4a145e-da68-49f3-a8f2-fb968a1dbf5f"
   },
   "outputs": [
    {
     "data": {
      "text/plain": [
       "array([0.        , 0.01010101, 0.02020202, 0.03030303, 0.04040404,\n",
       "       0.05050505, 0.06060606, 0.07070707, 0.08080808, 0.09090909,\n",
       "       0.1010101 , 0.11111111, 0.12121212, 0.13131313, 0.14141414,\n",
       "       0.15151515, 0.16161616, 0.17171717, 0.18181818, 0.19191919,\n",
       "       0.2020202 , 0.21212121, 0.22222222, 0.23232323, 0.24242424,\n",
       "       0.25252525, 0.26262626, 0.27272727, 0.28282828, 0.29292929,\n",
       "       0.3030303 , 0.31313131, 0.32323232, 0.33333333, 0.34343434,\n",
       "       0.35353535, 0.36363636, 0.37373737, 0.38383838, 0.39393939,\n",
       "       0.4040404 , 0.41414141, 0.42424242, 0.43434343, 0.44444444,\n",
       "       0.45454545, 0.46464646, 0.47474747, 0.48484848, 0.49494949,\n",
       "       0.50505051, 0.51515152, 0.52525253, 0.53535354, 0.54545455,\n",
       "       0.55555556, 0.56565657, 0.57575758, 0.58585859, 0.5959596 ,\n",
       "       0.60606061, 0.61616162, 0.62626263, 0.63636364, 0.64646465,\n",
       "       0.65656566, 0.66666667, 0.67676768, 0.68686869, 0.6969697 ,\n",
       "       0.70707071, 0.71717172, 0.72727273, 0.73737374, 0.74747475,\n",
       "       0.75757576, 0.76767677, 0.77777778, 0.78787879, 0.7979798 ,\n",
       "       0.80808081, 0.81818182, 0.82828283, 0.83838384, 0.84848485,\n",
       "       0.85858586, 0.86868687, 0.87878788, 0.88888889, 0.8989899 ,\n",
       "       0.90909091, 0.91919192, 0.92929293, 0.93939394, 0.94949495,\n",
       "       0.95959596, 0.96969697, 0.97979798, 0.98989899, 1.        ])"
      ]
     },
     "execution_count": 20,
     "metadata": {},
     "output_type": "execute_result"
    }
   ],
   "source": [
    "# Tips for 6.2.2:\n",
    "Xs = np.linspace(0, 1, 100)\n",
    "Xs\n",
    "# predict Y values for Xs and plot"
   ]
  },
  {
   "cell_type": "code",
   "execution_count": null,
   "metadata": {
    "colab": {},
    "colab_type": "code",
    "id": "fgfN9Lz2JLtd"
   },
   "outputs": [],
   "source": []
  },
  {
   "cell_type": "markdown",
   "metadata": {
    "colab_type": "text",
    "id": "D96S8KUA7nO6"
   },
   "source": [
    "# Chapter 7: Ensemble Learning and Random Forests"
   ]
  },
  {
   "cell_type": "markdown",
   "metadata": {
    "colab_type": "text",
    "id": "ctrzrDDB7nO9"
   },
   "source": [
    "Instead of using a single predictor, to improve our predictions we use now use _an ensemble_: **a group of predictors**. It is as if you are asking a number of experts opinion about a problem and you aggregate their answers."
   ]
  },
  {
   "cell_type": "markdown",
   "metadata": {
    "colab_type": "text",
    "id": "xlQ-gkxo7nO9"
   },
   "source": [
    "## 7.1 Voting Classifiers\n",
    "\n",
    "A brief comparision between `soft` voting and `hard` voting with using three predictors."
   ]
  },
  {
   "cell_type": "code",
   "execution_count": 21,
   "metadata": {
    "colab": {},
    "colab_type": "code",
    "id": "6RIFB5cL7nPB"
   },
   "outputs": [],
   "source": [
    "from sklearn.model_selection import train_test_split\n",
    "from sklearn.datasets import make_moons\n",
    "\n",
    "X, Y = make_moons(n_samples=500, noise=0.30, random_state=42)\n",
    "X_train, X_test, Y_train, Y_test = train_test_split(X, Y, random_state=42)"
   ]
  },
  {
   "cell_type": "markdown",
   "metadata": {
    "colab_type": "text",
    "id": "8t_ZGn0x7nPH"
   },
   "source": [
    "Helper function for printing accuracies on test set"
   ]
  },
  {
   "cell_type": "code",
   "execution_count": 22,
   "metadata": {
    "colab": {},
    "colab_type": "code",
    "id": "bJbAfAEC7nPI"
   },
   "outputs": [],
   "source": [
    "from sklearn.metrics import accuracy_score\n",
    "def test_clfs(*clfs): # clf -> classifier\n",
    "    for clf in clfs:\n",
    "        clf.fit(X_train, Y_train) # train the classifier\n",
    "        Y_pred = clf.predict(X_test)\n",
    "        print(clf.__class__.__name__ + \":\", accuracy_score(Y_test, Y_pred))"
   ]
  },
  {
   "cell_type": "markdown",
   "metadata": {
    "colab_type": "text",
    "id": "2BPUEJTw7nPK"
   },
   "source": [
    "Let's test `hard` voting first."
   ]
  },
  {
   "cell_type": "code",
   "execution_count": 23,
   "metadata": {
    "colab": {
     "base_uri": "https://localhost:8080/",
     "height": 141
    },
    "colab_type": "code",
    "executionInfo": {
     "elapsed": 650,
     "status": "ok",
     "timestamp": 1538586422959,
     "user": {
      "displayName": "Taha Doğan Güneş",
      "photoUrl": "",
      "userId": "11032505847365814490"
     },
     "user_tz": -60
    },
    "id": "iJCLNdpg7nPM",
    "outputId": "53b35fd0-8b5c-488f-8427-60c696d362a4"
   },
   "outputs": [
    {
     "name": "stdout",
     "output_type": "stream",
     "text": [
      "LogisticRegression: 0.864\n",
      "RandomForestClassifier: 0.872\n",
      "SVC: 0.888\n",
      "VotingClassifier: 0.896\n"
     ]
    },
    {
     "name": "stderr",
     "output_type": "stream",
     "text": [
      "/home/tdgunes/Projects/COMP6246-2018Fall/.venv/lib/python3.6/site-packages/sklearn/linear_model/logistic.py:432: FutureWarning: Default solver will be changed to 'lbfgs' in 0.22. Specify a solver to silence this warning.\n",
      "  FutureWarning)\n",
      "/home/tdgunes/Projects/COMP6246-2018Fall/.venv/lib/python3.6/site-packages/sklearn/ensemble/forest.py:248: FutureWarning: The default value of n_estimators will change from 10 in version 0.20 to 100 in 0.22.\n",
      "  \"10 in version 0.20 to 100 in 0.22.\", FutureWarning)\n",
      "/home/tdgunes/Projects/COMP6246-2018Fall/.venv/lib/python3.6/site-packages/sklearn/svm/base.py:196: FutureWarning: The default value of gamma will change from 'auto' to 'scale' in version 0.22 to account better for unscaled features. Set gamma explicitly to 'auto' or 'scale' to avoid this warning.\n",
      "  \"avoid this warning.\", FutureWarning)\n",
      "/home/tdgunes/Projects/COMP6246-2018Fall/.venv/lib/python3.6/site-packages/sklearn/linear_model/logistic.py:432: FutureWarning: Default solver will be changed to 'lbfgs' in 0.22. Specify a solver to silence this warning.\n",
      "  FutureWarning)\n",
      "/home/tdgunes/Projects/COMP6246-2018Fall/.venv/lib/python3.6/site-packages/sklearn/svm/base.py:196: FutureWarning: The default value of gamma will change from 'auto' to 'scale' in version 0.22 to account better for unscaled features. Set gamma explicitly to 'auto' or 'scale' to avoid this warning.\n",
      "  \"avoid this warning.\", FutureWarning)\n"
     ]
    }
   ],
   "source": [
    "from sklearn.ensemble import RandomForestClassifier\n",
    "from sklearn.ensemble import VotingClassifier\n",
    "from sklearn.linear_model import LogisticRegression\n",
    "from sklearn.svm import SVC\n",
    "\n",
    "# Don't worry about the warnings, \n",
    "# sci-kit community will be fixing it in the next major version 0.20.0 \n",
    "    \n",
    "log_clf = LogisticRegression(random_state=42)\n",
    "rnd_clf = RandomForestClassifier(random_state=42)\n",
    "svm_clf = SVC(random_state=42, probability=True)\n",
    "\n",
    "voting_clf = VotingClassifier(estimators=[('lr', log_clf), \n",
    "                                          ('rf', rnd_clf), \n",
    "                                          ('svc', svm_clf)],\n",
    "                              voting='hard')\n",
    "test_clfs(log_clf, rnd_clf, svm_clf, voting_clf)"
   ]
  },
  {
   "cell_type": "markdown",
   "metadata": {
    "colab_type": "text",
    "id": "jyJnbEdG7nPT"
   },
   "source": [
    "### Exercise 7.1: Which voting to pick?\n",
    "1. Check the `soft` voting and compare the results. Why do you think it is different? \n",
    "\n",
    "_If you don't know the difference have a look at your book, page 186._"
   ]
  },
  {
   "cell_type": "markdown",
   "metadata": {
    "colab_type": "text",
    "id": "a_VQ2uRU7nPU"
   },
   "source": [
    "**Your answer here:**"
   ]
  },
  {
   "cell_type": "markdown",
   "metadata": {
    "colab_type": "text",
    "id": "fJPzk3iR7nPU"
   },
   "source": [
    "## 7.2 Bagging & Pasting\n",
    "Instead of giving training set to each predictor in our ensemble, another approach to gain more accuracy is to separate the training set and give a different training subset to each predictor. There are two ways: \n",
    "* **Bagging:** (_bootstrapping in statistics_) picking a random subset from training set and not removing this selected set from training set for each predictor, i.e. **sampling with replacement**\n",
    "* **Pasting:** picking a random subset from training set and removing this selected set from the training set for each predictor, i.e. **sampling without replacement**\n",
    "If you are still confused, have a look at [here](http://www.statisticshowto.com/sampling-with-replacement-without/)."
   ]
  },
  {
   "cell_type": "code",
   "execution_count": 24,
   "metadata": {
    "colab": {
     "base_uri": "https://localhost:8080/",
     "height": 351
    },
    "colab_type": "code",
    "executionInfo": {
     "elapsed": 2235,
     "status": "ok",
     "timestamp": 1538586425281,
     "user": {
      "displayName": "Taha Doğan Güneş",
      "photoUrl": "",
      "userId": "11032505847365814490"
     },
     "user_tz": -60
    },
    "id": "QrFfV_E87nPW",
    "outputId": "aa28ba62-68bc-4353-b76c-557079d813f9"
   },
   "outputs": [
    {
     "name": "stdout",
     "output_type": "stream",
     "text": [
      "Bagging Classifier\n",
      "0.904\n",
      "Decision Tree Classifier\n",
      "0.856\n"
     ]
    },
    {
     "data": {
      "image/png": "[encoded data removed]",
      "text/plain": [
       "<Figure size 792x288 with 2 Axes>"
      ]
     },
     "metadata": {
      "needs_background": "light"
     },
     "output_type": "display_data"
    }
   ],
   "source": [
    "from sklearn.ensemble import BaggingClassifier\n",
    "from sklearn.tree import DecisionTreeClassifier\n",
    "\n",
    "# define our decision tree classifier\n",
    "tree_clf = DecisionTreeClassifier(random_state=42)\n",
    "# 500 copies of the predictor, which has 100 samples from training set\n",
    "# n_jobs=-1 for utilizing all cores \n",
    "bag_clf = BaggingClassifier(tree_clf, \n",
    "                            n_estimators=500, \n",
    "                            max_samples=100, \n",
    "                            bootstrap=True, \n",
    "                            n_jobs=-1, \n",
    "                            random_state=42)\n",
    "\n",
    "# fit the bagging classifier\n",
    "bag_clf.fit(X_train, Y_train)\n",
    "tree_clf.fit(X_train, Y_train)\n",
    "\n",
    "Y_pred_bag = bag_clf.predict(X_test)\n",
    "Y_pred_tree = tree_clf.predict(X_test)\n",
    "\n",
    "from sklearn.metrics import accuracy_score\n",
    "print(\"Bagging Classifier\")\n",
    "print(accuracy_score(Y_test, Y_pred_bag))\n",
    "print(\"Decision Tree Classifier\")\n",
    "print(accuracy_score(Y_test, Y_pred_tree))\n",
    "\n",
    "plt.figure(figsize=(11,4))\n",
    "plt.subplot(121)\n",
    "plot_decision_boundary(tree_clf, X, Y)\n",
    "plt.title(\"Decision Tree\", fontsize=14)\n",
    "plt.subplot(122)\n",
    "plot_decision_boundary(bag_clf, X, Y)\n",
    "plt.title(\"Decision Trees with Bagging\", fontsize=14)\n",
    "plt.show()"
   ]
  },
  {
   "cell_type": "markdown",
   "metadata": {
    "colab_type": "text",
    "id": "RF4kii4F1JHp"
   },
   "source": [
    "### 7.2 Exercise: Bagging or Pasting\n",
    "* What is the difference between these two techniques which select a subset of a training set?\n",
    "* When do you think it is better to use bagging or pasting?\n"
   ]
  },
  {
   "cell_type": "markdown",
   "metadata": {
    "colab_type": "text",
    "id": "vP5eLErO7nPg"
   },
   "source": [
    "## 7.3 Gradient Boosting\n",
    "In Gradient Boosting, we start with a single predictor. Sequentially, we add new predictors to _an ensemble_ that corrects its predecessor. In detail:\n",
    "\n",
    "The algorithm is for `3 predictors` in our ensemble:\n",
    "1. Pick a set of weak predictors (e.g. DecisionTreeRegressor(max_depth=2))\n",
    "    - For this example, it is `3`.\n",
    "2. Train the initial predictor on training set\n",
    "3. Train the second predictor on residual errors (use only errors, i.e. `y2 = y - predictor1.predict(X)`)\n",
    "3. Train the third predictor on the residual errors of the second predictor\n",
    "4. Use all predictors and sum their predictions (if regression)"
   ]
  },
  {
   "cell_type": "markdown",
   "metadata": {
    "colab_type": "text",
    "id": "Sk_Gljyn7nPg"
   },
   "source": [
    "### Exercise 7.3: Implement, Plot and Compare\n",
    "1. Implement this boosting technique that is explained above with `n` predictors.\n",
    "    - Use the `quadratic training set` as a regression task.\n",
    "    - Use `DecisionTreeRegressor(max_depth=2)` as a weak predictor\n",
    "2. For $n=3$, plot step by step the evolution of the ensemble predictions\n",
    "    - First figure with only one predictor\n",
    "    - Second figure with two predictors\n",
    "    - Third figure with three predictors \n",
    "3. Use sci-kit learn's `GradientBoostingRegressor` and compare if your results are similiar.\n",
    "4. Do you think this boosting technique is scalable in practice? \n",
    "\n",
    "Tips:\n",
    "-  **Plotting**: this is similar as before in Regression section 6.2, as explained earlier.\n",
    "-  **GradientBoostingRegressor**: use this code snippet:\n",
    "```python\n",
    "from sklearn.ensemble import GradientBoostingRegressor\n",
    "gbrt = GradientBoostingRegressor(max_depth=2, n_estimators=3, learning_rate=1.0)\n",
    "gbrt.fit(X,Y)\n",
    "```"
   ]
  },
  {
   "cell_type": "code",
   "execution_count": 25,
   "metadata": {
    "colab": {},
    "colab_type": "code",
    "id": "EME3i-yS7nPi"
   },
   "outputs": [],
   "source": [
    "# Your implementation here\n"
   ]
  },
  {
   "cell_type": "markdown",
   "metadata": {
    "colab_type": "text",
    "id": "moIxGdnOxOlh"
   },
   "source": [
    "## Recap\n",
    "\n",
    "At this point, we demonstrated these concepts:\n",
    "\n",
    "* training and visualizing various models from Decision Trees and Ensemble Learning\n",
    "* details about some hyperparameters and how to regularize the models\n",
    "* different training methods for ensemble learning\n",
    "* how a boosting technique works and its properties.\n",
    "\n",
    "Of course, there are some material that we have not be able to cover. In your free time, it can be better to have a look at:\n",
    "\n",
    "* **Decision Trees**\n",
    "  * How hard is it to find the best split to construct the _optimal tree_? \n",
    "  * Why is CART algorithm called _a greedy algorithm_?\n",
    "* **Ensemble Learning and Random Forests**\n",
    "  * Difference between Extra-Trees and Random Forests\n",
    "  * How does AdaBoost work?\n",
    "  * Learning Feature Importance with Random Forests\n",
    "  * What is `Stacking`?\n"
   ]
  },
  {
   "cell_type": "code",
   "execution_count": null,
   "metadata": {},
   "outputs": [],
   "source": []
  }
 ],
 "metadata": {
  "colab": {
   "collapsed_sections": [],
   "name": "lab3.ipynb",
   "provenance": [],
   "version": "0.3.2"
  },
  "kernelspec": {
   "display_name": "Python 3",
   "language": "python",
   "name": "python3"
  },
  "language_info": {
   "codemirror_mode": {
    "name": "ipython",
    "version": 3
   },
   "file_extension": ".py",
   "mimetype": "text/x-python",
   "name": "python",
   "nbconvert_exporter": "python",
   "pygments_lexer": "ipython3",
   "version": "3.6.6"
  }
 },
 "nbformat": 4,
 "nbformat_minor": 1
}
