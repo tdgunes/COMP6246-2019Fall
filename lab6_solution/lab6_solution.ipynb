{
 "cells": [
  {
   "cell_type": "markdown",
   "metadata": {
    "colab_type": "text",
    "collapsed": true,
    "id": "h4TCDtZI61jy"
   },
   "source": [
    "# COMP3222/COMP6246 Machine Learning Technologies (2019/20)\n",
    "\n",
    "## Lab 6 - Recurrent Neural Networks (Chapter 14)\n",
    "\n",
    "Follow each section at your own pace, you can have a look at the book or ask questions to demonstrators if you find something confusing.\n",
    "\n",
    "# 1. Basic Theory\n",
    "\n",
    "Until now, we looked into basic preceptrons, convolutional neural network (CNN) and how to implement them in TensorFlow. In practice these techniques are used in tasks such as: searching images, self-driving cars, automatic video classification and many more. Surely, there are different network architectures that are used in Deep Learning. In the previous lab, we showed that CNNs are essentially for `\"processing a grid of values\"`. However, the Deep Learning community has also generated another architecture specifically for `\"processing a sequence of values\"`, which are called **Recurrent Neural Networks (RNN)** [Goodfellow 2016]. In practice, recurrent neural networks are used for analyzing time series: stock prices, car trajectories, sentiment analysis and more. \n",
    "\n",
    "_Get Motivated_: Have a look at [this interactive example](https://distill.pub/2016/handwriting/), which generates new strokes in your handwriting style using RNNs. The model is explained in [this paper](https://arxiv.org/abs/1308.0850)."
   ]
  },
  {
   "cell_type": "markdown",
   "metadata": {
    "colab_type": "text",
    "id": "1KGz5_b561j0"
   },
   "source": [
    "## Bare-bones RNN\n",
    "\n",
    "Let's implement an RNN with five recurrent neurons without using TensorFlow's RNN implementation/utilities. "
   ]
  },
  {
   "cell_type": "code",
   "execution_count": 1,
   "metadata": {
    "colab": {},
    "colab_type": "code",
    "id": "2PbhSJgH61j2"
   },
   "outputs": [
    {
     "name": "stdout",
     "output_type": "stream",
     "text": [
      "WARNING:tensorflow:From C:\\Local\\anaconda3\\envs\\MLTech\\lib\\site-packages\\tensorflow_core\\python\\compat\\v2_compat.py:65: disable_resource_variables (from tensorflow.python.ops.variable_scope) is deprecated and will be removed in a future version.\n",
      "Instructions for updating:\n",
      "non-resource variables are not supported in the long term\n"
     ]
    }
   ],
   "source": [
    "import numpy as np\n",
    "import matplotlib.pyplot as plt\n",
    "\n",
    "# These two lines are required to use Tensorflow 1\n",
    "import tensorflow.compat.v1 as tf\n",
    "tf.disable_v2_behavior()\n",
    "\n",
    "# to make this notebook's output stable across runs\n",
    "def reset_graph(seed=42):\n",
    "    tf.reset_default_graph()\n",
    "    tf.set_random_seed(seed)\n",
    "    np.random.seed(seed)\n",
    "    \n",
    "reset_graph()\n",
    "# Let's assume some artificial data with three input (if our objective is to predict words in a sentence\n",
    "n_inputs = 3  # then for instance: first word, second word, third word can be the input of our model)\n",
    "n_neurons = 5 # number of neurons\n",
    "\n",
    "X0 = tf.placeholder(tf.float32, [None, n_inputs]) # t=0 batch\n",
    "X1 = tf.placeholder(tf.float32, [None, n_inputs]) # t=1 batch\n",
    "\n",
    "# Weights on inputs (all steps share this), initialy they are set random\n",
    "Wx = tf.Variable(tf.random_normal(shape=[n_inputs, n_neurons],dtype=tf.float32))\n",
    "\n",
    "# Connection weights for the outputs of the previous timestep (all steps share this), initialy they are set random \n",
    "Wy = tf.Variable(tf.random_normal(shape=[n_neurons,n_neurons],dtype=tf.float32))\n",
    "\n",
    "# bias vector, all zeros for now\n",
    "b = tf.Variable(tf.zeros([1, n_neurons], dtype=tf.float32))\n",
    "\n",
    "# outputs of timestep 0\n",
    "Y0 = tf.tanh(tf.matmul(X0, Wx) + b)\n",
    "\n",
    "# outputs of timestep 1\n",
    "Y1 = tf.tanh(tf.matmul(Y0, Wy) + tf.matmul(X1, Wx) + b)\n",
    "# Y1 = activation_function(dot_product(Y0, Wy) + dot_product(X1, Wx) + bias_vector)\n",
    "\n",
    "init = tf.global_variables_initializer()\n",
    "\n",
    "# Mini-batch:        instance1  instance2   instance3 instance4\n",
    "X0_batch = np.array([[0, 1, 2], [3, 4, 5], [6, 7, 8], [9, 0, 1]]) # t = 0 \n",
    "X1_batch = np.array([[9, 8, 7], [0, 0, 0], [6, 5, 4], [3, 2, 1]]) # t = 1 \n",
    "\n",
    "# within the session\n",
    "with tf.Session() as sess:\n",
    "    init.run()\n",
    "    # get the outputs of each step\n",
    "    Y0_val, Y1_val = sess.run([Y0, Y1], feed_dict={X0: X0_batch, X1: X1_batch})"
   ]
  },
  {
   "cell_type": "code",
   "execution_count": 2,
   "metadata": {
    "colab": {},
    "colab_type": "code",
    "id": "L0DldZ4961j8",
    "outputId": "7751cf9a-5216-4743-a37a-037af21042a1"
   },
   "outputs": [
    {
     "name": "stdout",
     "output_type": "stream",
     "text": [
      "[[-0.0664006   0.9625767   0.68105793  0.7091854  -0.898216  ]\n",
      " [ 0.9977755  -0.71978897 -0.9965761   0.9673924  -0.9998972 ]\n",
      " [ 0.99999774 -0.99898803 -0.9999989   0.9967762  -0.9999999 ]\n",
      " [ 1.         -1.         -1.         -0.99818915  0.9995087 ]]\n"
     ]
    }
   ],
   "source": [
    "print(Y0_val) # layers output at t=0"
   ]
  },
  {
   "cell_type": "code",
   "execution_count": 3,
   "metadata": {
    "colab": {},
    "colab_type": "code",
    "id": "p3Kebf4h61kE",
    "outputId": "0866a29b-b005-470c-f700-51d1dde20a81"
   },
   "outputs": [
    {
     "name": "stdout",
     "output_type": "stream",
     "text": [
      "[[ 1.         -1.         -1.          0.40200275 -0.9999998 ]\n",
      " [-0.12210423  0.6280527   0.9671843  -0.9937122  -0.25839362]\n",
      " [ 0.9999983  -0.9999994  -0.9999975  -0.8594331  -0.9999881 ]\n",
      " [ 0.99928284 -0.99999803 -0.9999058   0.9857963  -0.92205757]]\n"
     ]
    }
   ],
   "source": [
    "print(Y1_val) # layers output at t=1"
   ]
  },
  {
   "cell_type": "markdown",
   "metadata": {
    "colab_type": "text",
    "id": "nyfCJDzU61kL"
   },
   "source": [
    "For the given example above, from the comments in the code:\n",
    "\n",
    "***Exercise 1.2.*: How would you define the outputs?**\n",
    "\n",
    "Have a look at page 386 of your book, Figure 14_1. These are the outputs of each neuron in an RNN.\n",
    "\n",
    "***Exercise 1.3.*: Why are there five columns?**\n",
    "\n",
    "Because, there are five neurons.\n",
    "\n",
    "***Exercise 1.4.*: Why are there four rows?**\n",
    "\n",
    "You are providing four training samples of the data.\n",
    "\n",
    "***Exercise 1.5.*: What would be the difference between `instance1` at $t=0$ and `instance1` at $t=1$?**\n",
    "\n",
    "They are not related. In this example, they are two batches of different data points. \n",
    "\n",
    "***Exercise 1.6.*: What is the difference between `instance1` and `instance2` at $t=1$?**\n",
    "\n",
    "We are supplying four training samples in each two batches. Therefore, they are just different data points. "
   ]
  },
  {
   "cell_type": "markdown",
   "metadata": {
    "colab_type": "text",
    "id": "fQRTarpY61kL"
   },
   "source": [
    "# 2. Predicting Time Series\n",
    "\n",
    "Let's look at a simple use of RNNs with time series, these time series could be stock prices, brain wave patterns and so on. Our objective could be predicting the future stock price, given the available data that we have.\n",
    "\n",
    "Let's define an arbitary sine function for stock prices `time_series(t)` to make our predictions. "
   ]
  },
  {
   "cell_type": "code",
   "execution_count": 4,
   "metadata": {
    "colab": {},
    "colab_type": "code",
    "id": "vpX1yze861kM",
    "outputId": "7d1fd251-d25b-420f-d19b-b795bba1203b"
   },
   "outputs": [
    {
     "data": {
      "image/png": "[encoded data removed]",
      "text/plain": [
       "<Figure size 792x288 with 2 Axes>"
      ]
     },
     "metadata": {
      "needs_background": "light"
     },
     "output_type": "display_data"
    }
   ],
   "source": [
    "reset_graph()\n",
    "# time starts from 0 to 30\n",
    "t_min, t_max = 0, 30\n",
    "# we sample time_series function for every 0.1 \n",
    "resolution = 0.1\n",
    "\n",
    "def time_series(t):\n",
    "    return t * np.sin(t) / 3 + 2 * np.sin(t*5)\n",
    "\n",
    "def next_batch(batch_size, n_steps):\n",
    "    \"\"\"\n",
    "    Returns a batch with `n_steps`: number of instances\n",
    "    \"\"\"\n",
    "    # randomly get a starting number between a range\n",
    "    t0 = np.random.rand(batch_size, 1) * (t_max - t_min - n_steps * resolution)\n",
    "    # make a list until of number with n_steps until the next batch\n",
    "    Ts = t0 + np.arange(0., n_steps + 1) * resolution\n",
    "    # get the outputs of time_series function given the input Ts (time points)\n",
    "    ys = time_series(Ts)\n",
    "    \n",
    "    # return X's and Y's\n",
    "    return ys[:, :-1].reshape(-1, n_steps, 1), ys[:, 1:].reshape(-1, n_steps, 1)\n",
    "\n",
    "# inputs to the time_series function\n",
    "t = np.linspace(t_min, t_max, int((t_max - t_min) / resolution))\n",
    "\n",
    "n_steps = 20\n",
    "# a training instance\n",
    "t_instance = np.linspace(12.2, 12.2 + resolution * (n_steps + 1), n_steps + 1)\n",
    "\n",
    "plt.figure(figsize=(11,4))\n",
    "plt.subplot(121)\n",
    "plt.title(\"A time series (generated)\", fontsize=14)\n",
    "# plot all the data\n",
    "plt.plot(t, time_series(t), label=r\"$t . \\sin(t) / 3 + 2 . \\sin(5t)$\")\n",
    "\n",
    "# plot only the training set\n",
    "plt.plot(t_instance[:-1], time_series(t_instance[:-1]), \"b-\", linewidth=3, label=\"A training instance\")\n",
    "plt.legend(loc=\"lower left\", fontsize=14)\n",
    "plt.axis([0, 30, -17, 13])\n",
    "plt.xlabel(\"Time\")\n",
    "plt.ylabel(\"Value\")\n",
    "\n",
    "plt.subplot(122)\n",
    "plt.title(\"A training instance\", fontsize=14)\n",
    "plt.plot(t_instance[:-1], time_series(t_instance[:-1]), \"bo\", markersize=10, label=\"instance\")\n",
    "# notice that targets are shifted by one time step into the future\n",
    "plt.plot(t_instance[1:], time_series(t_instance[1:]), \"r*\", markersize=10, label=\"target\")\n",
    "plt.legend(loc=\"upper left\")\n",
    "plt.xlabel(\"Time\")\n",
    "\n",
    "plt.show()"
   ]
  },
  {
   "cell_type": "code",
   "execution_count": 5,
   "metadata": {
    "colab": {},
    "colab_type": "code",
    "id": "7pbmHofr61kP",
    "outputId": "99d7b4e4-8a84-44d1-cf78-e7da38f1d5ba"
   },
   "outputs": [
    {
     "name": "stdout",
     "output_type": "stream",
     "text": [
      "[[-1.40208096 -2.33035999]\n",
      " [-2.33035999 -3.4513234 ]\n",
      " [-3.4513234  -4.52641909]\n",
      " [-4.52641909 -5.32081479]\n",
      " [-5.32081479 -5.66045846]\n",
      " [-5.66045846 -5.47433377]\n",
      " [-5.47433377 -4.81157012]\n",
      " [-4.81157012 -3.82922233]\n",
      " [-3.82922233 -2.75371563]\n",
      " [-2.75371563 -1.82539786]\n",
      " [-1.82539786 -1.23977629]\n",
      " [-1.23977629 -1.0998269 ]\n",
      " [-1.0998269  -1.39105208]\n",
      " [-1.39105208 -1.98539218]\n",
      " [-1.98539218 -2.67303091]\n",
      " [-2.67303091 -3.214304  ]\n",
      " [-3.214304   -3.39899794]\n",
      " [-3.39899794 -3.09851497]\n",
      " [-3.09851497 -2.29812628]\n",
      " [-2.29812628 -1.10140997]]\n"
     ]
    }
   ],
   "source": [
    "X_batch, y_batch = next_batch(1, n_steps)\n",
    "\n",
    "# combining X_batch and y_batch for better printing, first_column=X, second_column=Y\n",
    "print(np.c_[X_batch[0], y_batch[0]])\n",
    "# Did you notice the shift in y values?"
   ]
  },
  {
   "cell_type": "code",
   "execution_count": 6,
   "metadata": {
    "colab": {},
    "colab_type": "code",
    "id": "kya6Ocrx61kS",
    "outputId": "7c26bb02-7370-4a38-bd35-2568a8cc5716"
   },
   "outputs": [],
   "source": [
    "reset_graph()\n",
    "\n",
    "n_steps = 20\n",
    "n_inputs = 1\n",
    "n_neurons = 100\n",
    "n_outputs = 1\n",
    "learning_rate = 0.001\n",
    "n_iterations = 1500\n",
    "batch_size = 50\n",
    "\n",
    "\n",
    "# Optimizer that finds the weight values for each neuron\n",
    "def get_predictions(optimizer=\"gdo\", \n",
    "                    loss_function=\"mse\",\n",
    "                    save=False,\n",
    "                    reset=True):\n",
    "    reset_graph()   \n",
    "    X = tf.placeholder(tf.float32, [None, n_steps, n_inputs])\n",
    "    y = tf.placeholder(tf.float32, [None, n_steps, n_outputs])\n",
    "\n",
    "    # We use `dynamic_rnn` and `BasicRNNCell` utilities in this case, with tf.nn.relu\n",
    "    cell = tf.nn.rnn_cell.BasicRNNCell(num_units=n_neurons, activation=tf.nn.relu)\n",
    "    rnn_outputs, states = tf.nn.dynamic_rnn(cell, X, dtype=tf.float32)\n",
    "\n",
    "    # This part is visually shown in the book Figure 14-10.\n",
    "    stacked_rnn_outputs = tf.reshape(rnn_outputs, [-1, n_neurons])\n",
    "\n",
    "    # What do you think line below will be doing? (Tip: https://www.tensorflow.org/api_docs/python/tf/layers/dense)\n",
    "    stacked_outputs = tf.layers.dense(stacked_rnn_outputs, n_outputs)\n",
    "\n",
    "    outputs = tf.reshape(stacked_outputs, [-1, n_steps, n_outputs])\n",
    "    \n",
    "    if optimizer == \"gdo\":\n",
    "        optimizer = tf.train.GradientDescentOptimizer(learning_rate=learning_rate)\n",
    "    elif optimizer == \"adam\":\n",
    "        optimizer = tf.train.AdamOptimizer(learning_rate=learning_rate)\n",
    "        \n",
    "    \n",
    "    # The loss function to optimize\n",
    "    if loss_function == \"mse\":\n",
    "        loss = tf.reduce_mean(tf.square(outputs - y))\n",
    "    elif loss_function == \"rmse\":\n",
    "        loss = tf.sqrt(tf.reduce_mean(tf.squared_difference(outputs, y)))\n",
    "\n",
    "    # Let the optimizer know that this is the loss function to optimize\n",
    "    training_op = optimizer.minimize(loss)\n",
    "\n",
    "    init = tf.global_variables_initializer()\n",
    "    saver = tf.train.Saver()\n",
    "    y_pred = None\n",
    "    with tf.Session() as sess:\n",
    "        init.run()\n",
    "        for iteration in range(n_iterations):\n",
    "            # get a random batch \n",
    "            X_batch, y_batch = next_batch(batch_size, n_steps)\n",
    "            # run tensorflow session\n",
    "            sess.run(training_op, feed_dict={X: X_batch, y: y_batch})\n",
    "            # in each 100th iteration\n",
    "            if iteration % 100 == 0: # with RSME\n",
    "                loss_val = loss.eval(feed_dict={X: X_batch, y: y_batch})\n",
    "                # print the MSE\n",
    "                print(iteration, \"\\t{}:\".format(loss_function), loss_val)\n",
    "\n",
    "        X_new = time_series(np.array(t_instance[:-1].reshape(-1, n_steps, n_inputs)))\n",
    "        y_pred = sess.run(outputs, feed_dict={X: X_new})\n",
    "        if save:\n",
    "            saver.save(sess, \"./my_time_series_model_\" + loss_function)\n",
    "    if reset:\n",
    "        reset_graph()   \n",
    "    \n",
    "    return y_pred, saver, outputs, X"
   ]
  },
  {
   "cell_type": "code",
   "execution_count": 7,
   "metadata": {
    "colab": {},
    "colab_type": "code",
    "id": "p2AYzlfn61kU",
    "outputId": "4b49110e-84e9-4ea4-a545-5057cf62c10f"
   },
   "outputs": [
    {
     "name": "stdout",
     "output_type": "stream",
     "text": [
      "WARNING:tensorflow:From <ipython-input-6-ffd5b8170bb1>:22: BasicRNNCell.__init__ (from tensorflow.python.ops.rnn_cell_impl) is deprecated and will be removed in a future version.\n",
      "Instructions for updating:\n",
      "This class is equivalent as tf.keras.layers.SimpleRNNCell, and will be replaced by that in Tensorflow 2.0.\n",
      "WARNING:tensorflow:From <ipython-input-6-ffd5b8170bb1>:23: dynamic_rnn (from tensorflow.python.ops.rnn) is deprecated and will be removed in a future version.\n",
      "Instructions for updating:\n",
      "Please use `keras.layers.RNN(cell)`, which is equivalent to this API\n",
      "WARNING:tensorflow:From C:\\Local\\anaconda3\\envs\\MLTech\\lib\\site-packages\\tensorflow_core\\python\\ops\\rnn_cell_impl.py:456: Layer.add_variable (from tensorflow.python.keras.engine.base_layer) is deprecated and will be removed in a future version.\n",
      "Instructions for updating:\n",
      "Please use `layer.add_weight` method instead.\n",
      "WARNING:tensorflow:From C:\\Local\\anaconda3\\envs\\MLTech\\lib\\site-packages\\tensorflow_core\\python\\ops\\rnn_cell_impl.py:460: calling Zeros.__init__ (from tensorflow.python.ops.init_ops) with dtype is deprecated and will be removed in a future version.\n",
      "Instructions for updating:\n",
      "Call initializer instance with the dtype argument instead of passing it to the constructor\n",
      "WARNING:tensorflow:From <ipython-input-6-ffd5b8170bb1>:29: dense (from tensorflow.python.layers.core) is deprecated and will be removed in a future version.\n",
      "Instructions for updating:\n",
      "Use keras.layers.Dense instead.\n",
      "WARNING:tensorflow:From C:\\Local\\anaconda3\\envs\\MLTech\\lib\\site-packages\\tensorflow_core\\python\\layers\\core.py:187: Layer.apply (from tensorflow.python.keras.engine.base_layer) is deprecated and will be removed in a future version.\n",
      "Instructions for updating:\n",
      "Please use `layer.__call__` method instead.\n",
      "0 \tmse: 13.841026\n",
      "100 \tmse: 0.9208843\n",
      "200 \tmse: 0.5451863\n",
      "300 \tmse: 0.36086816\n",
      "400 \tmse: 0.29775804\n",
      "500 \tmse: 0.26228595\n",
      "600 \tmse: 0.23783027\n",
      "700 \tmse: 0.1819096\n",
      "800 \tmse: 0.17917499\n",
      "900 \tmse: 0.18779245\n",
      "1000 \tmse: 0.16793889\n",
      "1100 \tmse: 0.16937979\n",
      "1200 \tmse: 0.13638055\n",
      "1300 \tmse: 0.14248464\n",
      "1400 \tmse: 0.116242446\n",
      "0 \trmse: 3.8650882\n",
      "100 \trmse: 1.8601373\n",
      "200 \trmse: 1.1923529\n",
      "300 \trmse: 0.95981115\n",
      "400 \trmse: 0.7683989\n",
      "500 \trmse: 0.6816613\n",
      "600 \trmse: 0.61443514\n",
      "700 \trmse: 0.5278193\n",
      "800 \trmse: 0.5077234\n",
      "900 \trmse: 0.5024839\n",
      "1000 \trmse: 0.46223927\n",
      "1100 \trmse: 0.45384395\n",
      "1200 \trmse: 0.40254924\n",
      "1300 \trmse: 0.401823\n",
      "1400 \trmse: 0.36164722\n"
     ]
    },
    {
     "data": {
      "text/plain": [
       "(array([[[-3.5477045 ],\n",
       "         [-3.0211253 ],\n",
       "         [-1.3003355 ],\n",
       "         [ 0.50970757],\n",
       "         [ 2.3014107 ],\n",
       "         [ 3.040976  ],\n",
       "         [ 3.4921103 ],\n",
       "         [ 3.4513597 ],\n",
       "         [ 2.7930527 ],\n",
       "         [ 2.229236  ],\n",
       "         [ 1.54554   ],\n",
       "         [ 1.2409023 ],\n",
       "         [ 1.5544744 ],\n",
       "         [ 2.3978558 ],\n",
       "         [ 3.6025336 ],\n",
       "         [ 4.716492  ],\n",
       "         [ 5.714428  ],\n",
       "         [ 6.556115  ],\n",
       "         [ 6.739255  ],\n",
       "         [ 6.2484055 ]]], dtype=float32), array([[[-3.508388 ],\n",
       "         [-3.0818055],\n",
       "         [-1.3413746],\n",
       "         [ 0.5104261],\n",
       "         [ 2.268932 ],\n",
       "         [ 3.0400412],\n",
       "         [ 3.4817607],\n",
       "         [ 3.4555745],\n",
       "         [ 2.7951434],\n",
       "         [ 2.2374256],\n",
       "         [ 1.5505079],\n",
       "         [ 1.2343997],\n",
       "         [ 1.5314096],\n",
       "         [ 2.3610237],\n",
       "         [ 3.5536125],\n",
       "         [ 4.671324 ],\n",
       "         [ 5.7337027],\n",
       "         [ 6.549388 ],\n",
       "         [ 6.7378163],\n",
       "         [ 6.26523  ]]], dtype=float32))"
      ]
     },
     "execution_count": 7,
     "metadata": {},
     "output_type": "execute_result"
    }
   ],
   "source": [
    "\n",
    "y_mse_pred, _, _, _ = get_predictions(optimizer=\"gdo\", loss_function=\"mse\")\n",
    "y_rmse_pred, _, _, _ = get_predictions(optimizer=\"gdo\", loss_function=\"rmse\", save=True)\n",
    "y_mse_pred, y_rmse_pred"
   ]
  },
  {
   "cell_type": "code",
   "execution_count": 8,
   "metadata": {
    "colab": {},
    "colab_type": "code",
    "id": "hwWYJ0J561kX",
    "outputId": "be612a36-9976-4454-8da3-6ddef00e3441",
    "scrolled": true
   },
   "outputs": [
    {
     "data": {
      "image/png": "[encoded data removed]",
      "text/plain": [
       "<Figure size 432x288 with 1 Axes>"
      ]
     },
     "metadata": {
      "needs_background": "light"
     },
     "output_type": "display_data"
    },
    {
     "data": {
      "image/png": "[encoded data removed]",
      "text/plain": [
       "<Figure size 432x288 with 1 Axes>"
      ]
     },
     "metadata": {
      "needs_background": "light"
     },
     "output_type": "display_data"
    }
   ],
   "source": [
    "def plot_results(title, y_vals):\n",
    "    plt.title(title, fontsize=14)\n",
    "    plt.plot(t_instance[:-1], time_series(t_instance[:-1]), \"bo\", markersize=10, label=\"instance\")\n",
    "    plt.plot(t_instance[1:], time_series(t_instance[1:]), \"r*\", markersize=10, label=\"target\")\n",
    "    plt.plot(t_instance[1:], y_vals[0,:,0], \"c.\", markersize=10, label=\"prediction\")\n",
    "    plt.legend(loc=\"upper left\")\n",
    "    plt.xlabel(\"Time\")\n",
    "\n",
    "    plt.show()\n",
    "\n",
    "\n",
    "plot_results(\"mse\", y_mse_pred)\n",
    "plot_results(\"rmse\", y_rmse_pred)"
   ]
  },
  {
   "cell_type": "markdown",
   "metadata": {
    "colab_type": "text",
    "id": "jLMihCTA61ka"
   },
   "source": [
    "***Exercise 2.1.* Add comments to the code blocks above. Do you understand the purpose of each line?**\n",
    "\n",
    "Check the code blocks above.\n",
    "\n",
    "***Exercise 2.2.* How can you improve the `MSE`? _(Tip: Remember Lab 4: Gradient Descent)_**\n",
    "\n",
    "The code blocks above are updated with a lower learning rate and higher epoch time.\n",
    "\n",
    "***Exercise 2.3.* Implement the `RMSE` instead of the `MSE`, compare the test plots.**\n",
    "\n",
    "Implemented above. Difference is quite minimal in the plots."
   ]
  },
  {
   "cell_type": "markdown",
   "metadata": {
    "colab_type": "text",
    "id": "8kCxyKLX61kb"
   },
   "source": [
    "# 3. Generative RNNs\n",
    "\n",
    "We can use RNNs to generate sequences, below you are going to use the model we trained. You should expect some resemblance to the original time series. "
   ]
  },
  {
   "cell_type": "code",
   "execution_count": 9,
   "metadata": {
    "colab": {},
    "colab_type": "code",
    "id": "xB5wmFEo61kc",
    "outputId": "1a904ae5-2b60-4b70-b014-f3e3acd0698d"
   },
   "outputs": [
    {
     "name": "stdout",
     "output_type": "stream",
     "text": [
      "0 \tmse: 13.907031\n",
      "100 \tmse: 0.50563276\n",
      "200 \tmse: 0.1972298\n",
      "300 \tmse: 0.1026313\n",
      "400 \tmse: 0.067478806\n",
      "500 \tmse: 0.06297704\n",
      "600 \tmse: 0.05659878\n",
      "700 \tmse: 0.050051264\n",
      "800 \tmse: 0.0505437\n",
      "900 \tmse: 0.04874706\n",
      "1000 \tmse: 0.04847027\n",
      "1100 \tmse: 0.050347283\n",
      "1200 \tmse: 0.041849542\n",
      "1300 \tmse: 0.05084179\n",
      "1400 \tmse: 0.043897416\n",
      "INFO:tensorflow:Restoring parameters from ./my_time_series_model_mse\n"
     ]
    },
    {
     "data": {
      "image/png": "[encoded data removed]",
      "text/plain": [
       "<Figure size 792x288 with 2 Axes>"
      ]
     },
     "metadata": {
      "needs_background": "light"
     },
     "output_type": "display_data"
    }
   ],
   "source": [
    "# since the graph is reset, let's train again:\n",
    "loss_function = \"mse\"\n",
    "_, saver, outputs, X = get_predictions(optimizer=\"adam\", loss_function=loss_function, save=True, reset=False) \n",
    "\n",
    "with tf.Session() as sess:                     \n",
    "    saver.restore(sess, \"./my_time_series_model_\"+loss_function)\n",
    "\n",
    "    sequence = [0.] * n_steps\n",
    "    for iteration in range(300):\n",
    "        X_batch = np.array(sequence[-n_steps:]).reshape(1, n_steps, 1)\n",
    "        y_pred = sess.run(outputs, feed_dict={X: X_batch})\n",
    "        sequence.append(y_pred[0, -1, 0])\n",
    "        \n",
    "plt.figure(figsize=(11,4))\n",
    "plt.subplot(121)\n",
    "plt.title(\"A time series (generated)\", fontsize=14)\n",
    "# plot all the data\n",
    "plt.plot(t, time_series(t), label=r\"$t . \\sin(t) / 3 + 2 . \\sin(5t)$\")\n",
    "\n",
    "\n",
    "plt.legend(loc=\"lower left\", fontsize=14)\n",
    "plt.axis([0, 30, -17, 13])\n",
    "plt.xlabel(\"Time\")\n",
    "plt.ylabel(\"Value\")\n",
    "\n",
    "plt.subplot(122)\n",
    "plt.title(\"Time series generated by RNN\", fontsize=14)\n",
    "\n",
    "plt.plot(np.arange(len(sequence)), sequence, \"b-\")\n",
    "plt.plot(t[:n_steps], sequence[:n_steps], \"b-\", linewidth=3)\n",
    "plt.xlabel(\"Time\")\n",
    "plt.ylabel(\"Value\")\n",
    "\n",
    "\n",
    "plt.show()"
   ]
  },
  {
   "cell_type": "markdown",
   "metadata": {
    "colab_type": "text",
    "id": "R3aWfjY961kf"
   },
   "source": [
    "***Exercise 3.1.* Does your plot resemble the actual time series? Why do you think so?**\n",
    "\n",
    "You should notice that if your improve your errors, the time series generated would resemble to the actual time series.\n",
    "\n",
    "***Exercise 3.2.* Change your optimizer to `AdamOptimizer`, what do you think has changed?**\n",
    "\n",
    "The code is now more structed, please try with different parameters.\n",
    "\n",
    "***Exercise 3.3.* Try different activation functions. (e.g. logit, tanh,  ...)**\n",
    "\n",
    "Have a look at the generate_predictions function. Follow the same pattern and implement the other activation function and compare the time series & errors.\n"
   ]
  },
  {
   "cell_type": "markdown",
   "metadata": {
    "colab_type": "text",
    "id": "jGatAprB61kg"
   },
   "source": [
    "# Recap\n",
    "\n",
    "In this lab, we demonstrated these concepts:\n",
    "\n",
    "* from theory to implementation, how a simple RNN is works\n",
    "* how to predict a time series with RNN \n",
    "* which parameters to look out for in order to improve the predictions\n",
    "* generation of sequences with a RNN\n",
    "\n",
    "As in the previous labs, there is some material that we have not been able to cover. In your free time, you can have a look at:\n",
    "\n",
    "* LTSM Cells and GRU Cells\n",
    "* NLP Applications with RNNs\n",
    "* Encoding and Decoding with RNNs"
   ]
  },
  {
   "cell_type": "markdown",
   "metadata": {
    "colab_type": "text",
    "id": "NNZMTU2261kg"
   },
   "source": [
    "### References\n",
    "[Goodfellow, 2016] : https://www.deeplearningbook.org/"
   ]
  }
 ],
 "metadata": {
  "colab": {
   "collapsed_sections": [],
   "name": "lab6.ipynb",
   "provenance": [],
   "version": "0.3.2"
  },
  "kernelspec": {
   "display_name": "Python 3",
   "language": "python",
   "name": "python3"
  },
  "language_info": {
   "codemirror_mode": {
    "name": "ipython",
    "version": 3
   },
   "file_extension": ".py",
   "mimetype": "text/x-python",
   "name": "python",
   "nbconvert_exporter": "python",
   "pygments_lexer": "ipython3",
   "version": "3.7.5"
  }
 },
 "nbformat": 4,
 "nbformat_minor": 1
}
