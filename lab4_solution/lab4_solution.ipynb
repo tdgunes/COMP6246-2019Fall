{
 "cells": [
  {
   "cell_type": "markdown",
   "metadata": {
    "colab_type": "text",
    "id": "PGyBKZWSianF"
   },
   "source": [
    "# COMP3222/6246 Machine Learning Technologies (2019/20)\n",
    "## Week 8 - Introduction to Tensorflow\n",
    "This lab is an introduction to the Tensorflow library, a powerful tool to run machine learning algorithms in Python. The Tensorflow library is the backbone of the exercises you will find in lab 5 and lab 6. Its advantages include flexibility, parallel execution, and being a general framework for computation. On top of that, it is a good entry to put in your CV!\n",
    "## 1. Installation\n",
    "First of all, we need to import the library in Python. Some Python distributions have it included already, if yours does not, you can sidestep the issue and use [Google's Collaboratory environment](https://colab.research.google.com/). Still, it can be a good exercise to try and install it on your local machine. In Unix system's you can simply install it by:\n",
    "\n",
    "```\n",
    "pip3 install tensorflow\n",
    "```\n",
    "\n",
    "After the installation, run this short test to make sure everything is working:"
   ]
  },
  {
   "cell_type": "code",
   "execution_count": 1,
   "metadata": {
    "colab": {},
    "colab_type": "code",
    "collapsed": true,
    "id": "tB-grTy6ianI"
   },
   "outputs": [
    {
     "name": "stdout",
     "output_type": "stream",
     "text": [
      "16\n"
     ]
    }
   ],
   "source": [
    "import tensorflow as tf\n",
    "\n",
    "x = tf.Variable(3, name=\"x\")\n",
    "y = tf.Variable(2, name=\"y\")\n",
    "z = tf.Variable(1, name=\"z\")\n",
    "g = x*y*z+x*x+z\n",
    "\n",
    "session = tf.Session()\n",
    "session.run(x.initializer)\n",
    "session.run(y.initializer)\n",
    "session.run(z.initializer)\n",
    "result = session.run(g)\n",
    "session.close()\n",
    "\n",
    "print(result)"
   ]
  },
  {
   "cell_type": "markdown",
   "metadata": {},
   "source": [
    "The code above creates a simple function of three variables, and then runs a Tensorflow session to compute the result.\n",
    "\n",
    "*Exercise 1.1.* Modify the code above to compute the value of $f(x,y,z) = x^3 + y^2 + yz + 3$ with $x=-2$, $y=5$ and $z=1.2$"
   ]
  },
  {
   "cell_type": "code",
   "execution_count": 2,
   "metadata": {
    "collapsed": true
   },
   "outputs": [
    {
     "name": "stdout",
     "output_type": "stream",
     "text": [
      "26.0\n"
     ]
    }
   ],
   "source": [
    "# Solution\n",
    "import tensorflow as tf\n",
    "\n",
    "x = tf.Variable(-2, dtype=tf.float32, name=\"x\")\n",
    "y = tf.Variable(5.0, name=\"y\")\n",
    "z = tf.Variable(1.2, name=\"z\")\n",
    "g = x*x*x+y*y+y*z+3\n",
    "\n",
    "session = tf.Session()\n",
    "session.run(x.initializer)\n",
    "session.run(y.initializer)\n",
    "session.run(z.initializer)\n",
    "result = session.run(g)\n",
    "session.close()\n",
    "\n",
    "print(result)"
   ]
  },
  {
   "cell_type": "markdown",
   "metadata": {
    "colab_type": "text",
    "id": "RbAhOboIianN"
   },
   "source": [
    "## 2. Linear regression\n",
    "In Tensorflow, we can easily define operations on whole arrays, matrices and multi-dimensional matrices (aka tensors). In this section, we look at a straightforward implementation of the vanilla linear regression algorithm.\n",
    "\n",
    "Do you remember the boston house price dataset from lab 2? Let's load it again and do some regression!"
   ]
  },
  {
   "cell_type": "code",
   "execution_count": 3,
   "metadata": {
    "colab": {},
    "colab_type": "code",
    "collapsed": true,
    "id": "uwkIsy3FianO"
   },
   "outputs": [
    {
     "ename": "ValueError",
     "evalue": "Dimensions must be equal, but are 14 and 506 for 'MatMul_1' (op: 'MatMul') with input shapes: [14,14], [506,1].",
     "output_type": "error",
     "traceback": [
      "\u001b[1;31m---------------------------------------------------------------------------\u001b[0m",
      "\u001b[1;31mInvalidArgumentError\u001b[0m                      Traceback (most recent call last)",
      "\u001b[1;32mC:\\Local\\anaconda3\\envs\\MLTech\\lib\\site-packages\\tensorflow\\python\\framework\\ops.py\u001b[0m in \u001b[0;36m_create_c_op\u001b[1;34m(graph, node_def, inputs, control_inputs)\u001b[0m\n\u001b[0;32m   1863\u001b[0m   \u001b[1;32mtry\u001b[0m\u001b[1;33m:\u001b[0m\u001b[1;33m\u001b[0m\u001b[1;33m\u001b[0m\u001b[0m\n\u001b[1;32m-> 1864\u001b[1;33m     \u001b[0mc_op\u001b[0m \u001b[1;33m=\u001b[0m \u001b[0mc_api\u001b[0m\u001b[1;33m.\u001b[0m\u001b[0mTF_FinishOperation\u001b[0m\u001b[1;33m(\u001b[0m\u001b[0mop_desc\u001b[0m\u001b[1;33m)\u001b[0m\u001b[1;33m\u001b[0m\u001b[1;33m\u001b[0m\u001b[0m\n\u001b[0m\u001b[0;32m   1865\u001b[0m   \u001b[1;32mexcept\u001b[0m \u001b[0merrors\u001b[0m\u001b[1;33m.\u001b[0m\u001b[0mInvalidArgumentError\u001b[0m \u001b[1;32mas\u001b[0m \u001b[0me\u001b[0m\u001b[1;33m:\u001b[0m\u001b[1;33m\u001b[0m\u001b[1;33m\u001b[0m\u001b[0m\n",
      "\u001b[1;31mInvalidArgumentError\u001b[0m: Dimensions must be equal, but are 14 and 506 for 'MatMul_1' (op: 'MatMul') with input shapes: [14,14], [506,1].",
      "\nDuring handling of the above exception, another exception occurred:\n",
      "\u001b[1;31mValueError\u001b[0m                                Traceback (most recent call last)",
      "\u001b[1;32m<ipython-input-3-0039b9f7e442>\u001b[0m in \u001b[0;36m<module>\u001b[1;34m\u001b[0m\n\u001b[0;32m     11\u001b[0m \u001b[0my\u001b[0m \u001b[1;33m=\u001b[0m \u001b[0mtf\u001b[0m\u001b[1;33m.\u001b[0m\u001b[0mconstant\u001b[0m\u001b[1;33m(\u001b[0m\u001b[0mboston\u001b[0m\u001b[1;33m.\u001b[0m\u001b[0mtarget\u001b[0m\u001b[1;33m.\u001b[0m\u001b[0mreshape\u001b[0m\u001b[1;33m(\u001b[0m\u001b[1;33m-\u001b[0m\u001b[1;36m1\u001b[0m\u001b[1;33m,\u001b[0m \u001b[1;36m1\u001b[0m\u001b[1;33m)\u001b[0m\u001b[1;33m,\u001b[0m \u001b[0mdtype\u001b[0m\u001b[1;33m=\u001b[0m\u001b[0mtf\u001b[0m\u001b[1;33m.\u001b[0m\u001b[0mfloat32\u001b[0m\u001b[1;33m,\u001b[0m \u001b[0mname\u001b[0m\u001b[1;33m=\u001b[0m\u001b[1;34m\"y\"\u001b[0m\u001b[1;33m)\u001b[0m\u001b[1;33m\u001b[0m\u001b[1;33m\u001b[0m\u001b[0m\n\u001b[0;32m     12\u001b[0m \u001b[0mXt\u001b[0m \u001b[1;33m=\u001b[0m \u001b[0mtf\u001b[0m\u001b[1;33m.\u001b[0m\u001b[0mtranspose\u001b[0m\u001b[1;33m(\u001b[0m\u001b[0mX\u001b[0m\u001b[1;33m)\u001b[0m\u001b[1;33m\u001b[0m\u001b[1;33m\u001b[0m\u001b[0m\n\u001b[1;32m---> 13\u001b[1;33m \u001b[0mw\u001b[0m \u001b[1;33m=\u001b[0m \u001b[0mtf\u001b[0m\u001b[1;33m.\u001b[0m\u001b[0mmatmul\u001b[0m\u001b[1;33m(\u001b[0m\u001b[0mtf\u001b[0m\u001b[1;33m.\u001b[0m\u001b[0mmatrix_inverse\u001b[0m\u001b[1;33m(\u001b[0m\u001b[0mtf\u001b[0m\u001b[1;33m.\u001b[0m\u001b[0mmatmul\u001b[0m\u001b[1;33m(\u001b[0m\u001b[0mXt\u001b[0m\u001b[1;33m,\u001b[0m \u001b[0mX\u001b[0m\u001b[1;33m)\u001b[0m\u001b[1;33m)\u001b[0m\u001b[1;33m,\u001b[0m \u001b[0my\u001b[0m\u001b[1;33m)\u001b[0m\u001b[1;33m\u001b[0m\u001b[1;33m\u001b[0m\u001b[0m\n\u001b[0m\u001b[0;32m     14\u001b[0m \u001b[1;33m\u001b[0m\u001b[0m\n\u001b[0;32m     15\u001b[0m \u001b[1;31m# run the computation\u001b[0m\u001b[1;33m\u001b[0m\u001b[1;33m\u001b[0m\u001b[1;33m\u001b[0m\u001b[0m\n",
      "\u001b[1;32mC:\\Local\\anaconda3\\envs\\MLTech\\lib\\site-packages\\tensorflow\\python\\util\\dispatch.py\u001b[0m in \u001b[0;36mwrapper\u001b[1;34m(*args, **kwargs)\u001b[0m\n\u001b[0;32m    178\u001b[0m     \u001b[1;34m\"\"\"Call target, and fall back on dispatchers if there is a TypeError.\"\"\"\u001b[0m\u001b[1;33m\u001b[0m\u001b[1;33m\u001b[0m\u001b[0m\n\u001b[0;32m    179\u001b[0m     \u001b[1;32mtry\u001b[0m\u001b[1;33m:\u001b[0m\u001b[1;33m\u001b[0m\u001b[1;33m\u001b[0m\u001b[0m\n\u001b[1;32m--> 180\u001b[1;33m       \u001b[1;32mreturn\u001b[0m \u001b[0mtarget\u001b[0m\u001b[1;33m(\u001b[0m\u001b[1;33m*\u001b[0m\u001b[0margs\u001b[0m\u001b[1;33m,\u001b[0m \u001b[1;33m**\u001b[0m\u001b[0mkwargs\u001b[0m\u001b[1;33m)\u001b[0m\u001b[1;33m\u001b[0m\u001b[1;33m\u001b[0m\u001b[0m\n\u001b[0m\u001b[0;32m    181\u001b[0m     \u001b[1;32mexcept\u001b[0m \u001b[1;33m(\u001b[0m\u001b[0mTypeError\u001b[0m\u001b[1;33m,\u001b[0m \u001b[0mValueError\u001b[0m\u001b[1;33m)\u001b[0m\u001b[1;33m:\u001b[0m\u001b[1;33m\u001b[0m\u001b[1;33m\u001b[0m\u001b[0m\n\u001b[0;32m    182\u001b[0m       \u001b[1;31m# Note: convert_to_eager_tensor currently raises a ValueError, not a\u001b[0m\u001b[1;33m\u001b[0m\u001b[1;33m\u001b[0m\u001b[1;33m\u001b[0m\u001b[0m\n",
      "\u001b[1;32mC:\\Local\\anaconda3\\envs\\MLTech\\lib\\site-packages\\tensorflow\\python\\ops\\math_ops.py\u001b[0m in \u001b[0;36mmatmul\u001b[1;34m(a, b, transpose_a, transpose_b, adjoint_a, adjoint_b, a_is_sparse, b_is_sparse, name)\u001b[0m\n\u001b[0;32m   2645\u001b[0m     \u001b[1;32melse\u001b[0m\u001b[1;33m:\u001b[0m\u001b[1;33m\u001b[0m\u001b[1;33m\u001b[0m\u001b[0m\n\u001b[0;32m   2646\u001b[0m       return gen_math_ops.mat_mul(\n\u001b[1;32m-> 2647\u001b[1;33m           a, b, transpose_a=transpose_a, transpose_b=transpose_b, name=name)\n\u001b[0m\u001b[0;32m   2648\u001b[0m \u001b[1;33m\u001b[0m\u001b[0m\n\u001b[0;32m   2649\u001b[0m \u001b[1;33m\u001b[0m\u001b[0m\n",
      "\u001b[1;32mC:\\Local\\anaconda3\\envs\\MLTech\\lib\\site-packages\\tensorflow\\python\\ops\\gen_math_ops.py\u001b[0m in \u001b[0;36mmat_mul\u001b[1;34m(a, b, transpose_a, transpose_b, name)\u001b[0m\n\u001b[0;32m   5922\u001b[0m   _, _, _op = _op_def_lib._apply_op_helper(\n\u001b[0;32m   5923\u001b[0m         \u001b[1;34m\"MatMul\"\u001b[0m\u001b[1;33m,\u001b[0m \u001b[0ma\u001b[0m\u001b[1;33m=\u001b[0m\u001b[0ma\u001b[0m\u001b[1;33m,\u001b[0m \u001b[0mb\u001b[0m\u001b[1;33m=\u001b[0m\u001b[0mb\u001b[0m\u001b[1;33m,\u001b[0m \u001b[0mtranspose_a\u001b[0m\u001b[1;33m=\u001b[0m\u001b[0mtranspose_a\u001b[0m\u001b[1;33m,\u001b[0m \u001b[0mtranspose_b\u001b[0m\u001b[1;33m=\u001b[0m\u001b[0mtranspose_b\u001b[0m\u001b[1;33m,\u001b[0m\u001b[1;33m\u001b[0m\u001b[1;33m\u001b[0m\u001b[0m\n\u001b[1;32m-> 5924\u001b[1;33m                   name=name)\n\u001b[0m\u001b[0;32m   5925\u001b[0m   \u001b[0m_result\u001b[0m \u001b[1;33m=\u001b[0m \u001b[0m_op\u001b[0m\u001b[1;33m.\u001b[0m\u001b[0moutputs\u001b[0m\u001b[1;33m[\u001b[0m\u001b[1;33m:\u001b[0m\u001b[1;33m]\u001b[0m\u001b[1;33m\u001b[0m\u001b[1;33m\u001b[0m\u001b[0m\n\u001b[0;32m   5926\u001b[0m   \u001b[0m_inputs_flat\u001b[0m \u001b[1;33m=\u001b[0m \u001b[0m_op\u001b[0m\u001b[1;33m.\u001b[0m\u001b[0minputs\u001b[0m\u001b[1;33m\u001b[0m\u001b[1;33m\u001b[0m\u001b[0m\n",
      "\u001b[1;32mC:\\Local\\anaconda3\\envs\\MLTech\\lib\\site-packages\\tensorflow\\python\\framework\\op_def_library.py\u001b[0m in \u001b[0;36m_apply_op_helper\u001b[1;34m(self, op_type_name, name, **keywords)\u001b[0m\n\u001b[0;32m    786\u001b[0m         op = g.create_op(op_type_name, inputs, dtypes=None, name=scope,\n\u001b[0;32m    787\u001b[0m                          \u001b[0minput_types\u001b[0m\u001b[1;33m=\u001b[0m\u001b[0minput_types\u001b[0m\u001b[1;33m,\u001b[0m \u001b[0mattrs\u001b[0m\u001b[1;33m=\u001b[0m\u001b[0mattr_protos\u001b[0m\u001b[1;33m,\u001b[0m\u001b[1;33m\u001b[0m\u001b[1;33m\u001b[0m\u001b[0m\n\u001b[1;32m--> 788\u001b[1;33m                          op_def=op_def)\n\u001b[0m\u001b[0;32m    789\u001b[0m       \u001b[1;32mreturn\u001b[0m \u001b[0moutput_structure\u001b[0m\u001b[1;33m,\u001b[0m \u001b[0mop_def\u001b[0m\u001b[1;33m.\u001b[0m\u001b[0mis_stateful\u001b[0m\u001b[1;33m,\u001b[0m \u001b[0mop\u001b[0m\u001b[1;33m\u001b[0m\u001b[1;33m\u001b[0m\u001b[0m\n\u001b[0;32m    790\u001b[0m \u001b[1;33m\u001b[0m\u001b[0m\n",
      "\u001b[1;32mC:\\Local\\anaconda3\\envs\\MLTech\\lib\\site-packages\\tensorflow\\python\\util\\deprecation.py\u001b[0m in \u001b[0;36mnew_func\u001b[1;34m(*args, **kwargs)\u001b[0m\n\u001b[0;32m    505\u001b[0m                 \u001b[1;34m'in a future version'\u001b[0m \u001b[1;32mif\u001b[0m \u001b[0mdate\u001b[0m \u001b[1;32mis\u001b[0m \u001b[1;32mNone\u001b[0m \u001b[1;32melse\u001b[0m \u001b[1;33m(\u001b[0m\u001b[1;34m'after %s'\u001b[0m \u001b[1;33m%\u001b[0m \u001b[0mdate\u001b[0m\u001b[1;33m)\u001b[0m\u001b[1;33m,\u001b[0m\u001b[1;33m\u001b[0m\u001b[1;33m\u001b[0m\u001b[0m\n\u001b[0;32m    506\u001b[0m                 instructions)\n\u001b[1;32m--> 507\u001b[1;33m       \u001b[1;32mreturn\u001b[0m \u001b[0mfunc\u001b[0m\u001b[1;33m(\u001b[0m\u001b[1;33m*\u001b[0m\u001b[0margs\u001b[0m\u001b[1;33m,\u001b[0m \u001b[1;33m**\u001b[0m\u001b[0mkwargs\u001b[0m\u001b[1;33m)\u001b[0m\u001b[1;33m\u001b[0m\u001b[1;33m\u001b[0m\u001b[0m\n\u001b[0m\u001b[0;32m    508\u001b[0m \u001b[1;33m\u001b[0m\u001b[0m\n\u001b[0;32m    509\u001b[0m     doc = _add_deprecated_arg_notice_to_docstring(\n",
      "\u001b[1;32mC:\\Local\\anaconda3\\envs\\MLTech\\lib\\site-packages\\tensorflow\\python\\framework\\ops.py\u001b[0m in \u001b[0;36mcreate_op\u001b[1;34m(***failed resolving arguments***)\u001b[0m\n\u001b[0;32m   3614\u001b[0m           \u001b[0minput_types\u001b[0m\u001b[1;33m=\u001b[0m\u001b[0minput_types\u001b[0m\u001b[1;33m,\u001b[0m\u001b[1;33m\u001b[0m\u001b[1;33m\u001b[0m\u001b[0m\n\u001b[0;32m   3615\u001b[0m           \u001b[0moriginal_op\u001b[0m\u001b[1;33m=\u001b[0m\u001b[0mself\u001b[0m\u001b[1;33m.\u001b[0m\u001b[0m_default_original_op\u001b[0m\u001b[1;33m,\u001b[0m\u001b[1;33m\u001b[0m\u001b[1;33m\u001b[0m\u001b[0m\n\u001b[1;32m-> 3616\u001b[1;33m           op_def=op_def)\n\u001b[0m\u001b[0;32m   3617\u001b[0m       \u001b[0mself\u001b[0m\u001b[1;33m.\u001b[0m\u001b[0m_create_op_helper\u001b[0m\u001b[1;33m(\u001b[0m\u001b[0mret\u001b[0m\u001b[1;33m,\u001b[0m \u001b[0mcompute_device\u001b[0m\u001b[1;33m=\u001b[0m\u001b[0mcompute_device\u001b[0m\u001b[1;33m)\u001b[0m\u001b[1;33m\u001b[0m\u001b[1;33m\u001b[0m\u001b[0m\n\u001b[0;32m   3618\u001b[0m     \u001b[1;32mreturn\u001b[0m \u001b[0mret\u001b[0m\u001b[1;33m\u001b[0m\u001b[1;33m\u001b[0m\u001b[0m\n",
      "\u001b[1;32mC:\\Local\\anaconda3\\envs\\MLTech\\lib\\site-packages\\tensorflow\\python\\framework\\ops.py\u001b[0m in \u001b[0;36m__init__\u001b[1;34m(self, node_def, g, inputs, output_types, control_inputs, input_types, original_op, op_def)\u001b[0m\n\u001b[0;32m   2025\u001b[0m           op_def, inputs, node_def.attr)\n\u001b[0;32m   2026\u001b[0m       self._c_op = _create_c_op(self._graph, node_def, grouped_inputs,\n\u001b[1;32m-> 2027\u001b[1;33m                                 control_input_ops)\n\u001b[0m\u001b[0;32m   2028\u001b[0m \u001b[1;33m\u001b[0m\u001b[0m\n\u001b[0;32m   2029\u001b[0m     \u001b[1;31m# Initialize self._outputs.\u001b[0m\u001b[1;33m\u001b[0m\u001b[1;33m\u001b[0m\u001b[1;33m\u001b[0m\u001b[0m\n",
      "\u001b[1;32mC:\\Local\\anaconda3\\envs\\MLTech\\lib\\site-packages\\tensorflow\\python\\framework\\ops.py\u001b[0m in \u001b[0;36m_create_c_op\u001b[1;34m(graph, node_def, inputs, control_inputs)\u001b[0m\n\u001b[0;32m   1865\u001b[0m   \u001b[1;32mexcept\u001b[0m \u001b[0merrors\u001b[0m\u001b[1;33m.\u001b[0m\u001b[0mInvalidArgumentError\u001b[0m \u001b[1;32mas\u001b[0m \u001b[0me\u001b[0m\u001b[1;33m:\u001b[0m\u001b[1;33m\u001b[0m\u001b[1;33m\u001b[0m\u001b[0m\n\u001b[0;32m   1866\u001b[0m     \u001b[1;31m# Convert to ValueError for backwards compatibility.\u001b[0m\u001b[1;33m\u001b[0m\u001b[1;33m\u001b[0m\u001b[1;33m\u001b[0m\u001b[0m\n\u001b[1;32m-> 1867\u001b[1;33m     \u001b[1;32mraise\u001b[0m \u001b[0mValueError\u001b[0m\u001b[1;33m(\u001b[0m\u001b[0mstr\u001b[0m\u001b[1;33m(\u001b[0m\u001b[0me\u001b[0m\u001b[1;33m)\u001b[0m\u001b[1;33m)\u001b[0m\u001b[1;33m\u001b[0m\u001b[1;33m\u001b[0m\u001b[0m\n\u001b[0m\u001b[0;32m   1868\u001b[0m \u001b[1;33m\u001b[0m\u001b[0m\n\u001b[0;32m   1869\u001b[0m   \u001b[1;32mreturn\u001b[0m \u001b[0mc_op\u001b[0m\u001b[1;33m\u001b[0m\u001b[1;33m\u001b[0m\u001b[0m\n",
      "\u001b[1;31mValueError\u001b[0m: Dimensions must be equal, but are 14 and 506 for 'MatMul_1' (op: 'MatMul') with input shapes: [14,14], [506,1]."
     ]
    }
   ],
   "source": [
    "import numpy as np\n",
    "from sklearn.datasets import load_boston\n",
    "\n",
    "# load the dataset\n",
    "boston = load_boston()\n",
    "m, n = boston.data.shape\n",
    "boston_features = np.c_[np.ones((m,1)), boston.data]\n",
    "\n",
    "# define the pseudo-inverse equation in tensorflow\n",
    "X = tf.constant(boston_features, dtype=tf.float32, name=\"X\")\n",
    "y = tf.constant(boston.target.reshape(-1, 1), dtype=tf.float32, name=\"y\")\n",
    "Xt = tf.transpose(X)\n",
    "w = tf.matmul(tf.matrix_inverse(tf.matmul(Xt, X)), y)\n",
    "\n",
    "# run the computation\n",
    "with tf.Session() as sess:\n",
    "    weights = w.eval()"
   ]
  },
  {
   "cell_type": "markdown",
   "metadata": {},
   "source": [
    "*Exercise 2.1.* The pseudo-inverse equation in the code above is wrong. Fix the error."
   ]
  },
  {
   "cell_type": "code",
   "execution_count": 4,
   "metadata": {
    "collapsed": true
   },
   "outputs": [
    {
     "name": "stdout",
     "output_type": "stream",
     "text": [
      "[[ 3.64556236e+01]\n",
      " [-1.08021215e-01]\n",
      " [ 4.64181527e-02]\n",
      " [ 2.05375552e-02]\n",
      " [ 2.68626690e+00]\n",
      " [-1.77639732e+01]\n",
      " [ 3.81015968e+00]\n",
      " [ 6.87364489e-04]\n",
      " [-1.47551513e+00]\n",
      " [ 3.06014806e-01]\n",
      " [-1.23324459e-02]\n",
      " [-9.52731133e-01]\n",
      " [ 9.31287464e-03]\n",
      " [-5.24735868e-01]]\n"
     ]
    }
   ],
   "source": [
    "# Solution\n",
    "\n",
    "X = tf.constant(boston_features, dtype=tf.float32, name=\"X\")\n",
    "y = tf.constant(boston.target.reshape(-1, 1), dtype=tf.float32, name=\"y\")\n",
    "Xt = tf.transpose(X)\n",
    "w = tf.matmul(tf.matmul(tf.matrix_inverse(tf.matmul(Xt, X)), Xt), y)\n",
    "\n",
    "# run the computation\n",
    "with tf.Session() as sess:\n",
    "    weights = w.eval()\n",
    "\n",
    "print(weights)"
   ]
  },
  {
   "cell_type": "markdown",
   "metadata": {},
   "source": [
    "*Exercise 2.2.* Modify the code above to compute some estimates over the training set. Print the training RMSE."
   ]
  },
  {
   "cell_type": "code",
   "execution_count": 5,
   "metadata": {
    "collapsed": true
   },
   "outputs": [
    {
     "name": "stdout",
     "output_type": "stream",
     "text": [
      "4.679191\n"
     ]
    }
   ],
   "source": [
    "# Solution\n",
    "import tensorflow as tf\n",
    "\n",
    "predict = tf.matmul(X, w)\n",
    "sq_error = tf.squared_difference(predict, y)\n",
    "rmse = tf.math.sqrt(tf.reduce_mean(sq_error))\n",
    "\n",
    "# run the computation\n",
    "with tf.Session() as sess:\n",
    "    RMSE = rmse.eval()\n",
    "\n",
    "print(RMSE)"
   ]
  },
  {
   "cell_type": "markdown",
   "metadata": {
    "colab_type": "text",
    "id": "YUUhdZrpianS"
   },
   "source": [
    "From the examples seen so far, we can deduce that the Tensorflow library is designed around two phases. First, is the **declaration phase**, where we create all the variables and link them into a function. Internally, this generates a computation graph. Second, we create a Tensorflow session and we run the **actual computation**.\n",
    "## 3. Gradient descent\n",
    "When the number of features and the dataset are large, computing the pseudo-inverse can become computationally expensive. A more efficient approach is gradient descent, which consists in starting from a randomly selected point and slowly creeping toward the solution. Not only this approach is quick, but it generalises well beyond linear methods. In fact, this is the backbone of the many non-linear neural networks and deep learning algorithms that define the current state-of-the-art.\n",
    "\n",
    "Here is an example of how to implement gradient descent in Tensorflow. In this case, the gradients are computed automagically by automatic differentiation. This is a quite fascinating computational technique that saves us from computing first-order derivatives with pen and paper. Have a look at the Wikipedia entry to know more about this topic."
   ]
  },
  {
   "cell_type": "code",
   "execution_count": 6,
   "metadata": {
    "colab": {},
    "colab_type": "code",
    "collapsed": true,
    "id": "NPz5Nkc1ianU"
   },
   "outputs": [
    {
     "name": "stdout",
     "output_type": "stream",
     "text": [
      "Step 0 MSE = 119747.79\n",
      "Step 50 MSE = nan\n",
      "Step 100 MSE = nan\n",
      "Step 150 MSE = nan\n",
      "Step 200 MSE = nan\n",
      "Step 250 MSE = nan\n",
      "Step 300 MSE = nan\n",
      "Step 350 MSE = nan\n",
      "Step 400 MSE = nan\n",
      "Step 450 MSE = nan\n",
      "Step 500 MSE = nan\n",
      "Step 550 MSE = nan\n",
      "Step 600 MSE = nan\n",
      "Step 650 MSE = nan\n",
      "Step 700 MSE = nan\n",
      "Step 750 MSE = nan\n",
      "Step 800 MSE = nan\n",
      "Step 850 MSE = nan\n",
      "Step 900 MSE = nan\n",
      "Step 950 MSE = nan\n"
     ]
    }
   ],
   "source": [
    "n_steps = 1000\n",
    "learn_rate = 0.001\n",
    "\n",
    "X = tf.constant(boston_features, dtype=tf.float32, name=\"X\")\n",
    "y = tf.constant(boston.target.reshape(-1, 1), dtype=tf.float32, name=\"y\")\n",
    "w = tf.Variable(tf.random_uniform([n+1,1], -1.0, 1.0), name=\"w\")\n",
    "y_hat = tf.matmul(X, w, name=\"y_hat\")\n",
    "error = y_hat - y\n",
    "mse = tf.reduce_mean(tf.square(error), name=\"mse\")\n",
    "\n",
    "gradients = tf.gradients(mse, [w])[0]\n",
    "train_step = tf.assign(w, w - learn_rate * gradients)\n",
    "\n",
    "init = tf.global_variables_initializer()\n",
    "with tf.Session() as sess:\n",
    "    sess.run(init)\n",
    "    \n",
    "    for step in range(n_steps):\n",
    "        if step % 50 == 0:\n",
    "            print(\"Step\", step, \"MSE =\", mse.eval())\n",
    "        sess.run(train_step)\n",
    "    \n",
    "    w_best = w.eval()"
   ]
  },
  {
   "cell_type": "markdown",
   "metadata": {},
   "source": [
    "*Exercise 3.1.* Add comments to the code above. Do you understand the purpose of each line?"
   ]
  },
  {
   "cell_type": "code",
   "execution_count": 7,
   "metadata": {
    "collapsed": true
   },
   "outputs": [
    {
     "name": "stdout",
     "output_type": "stream",
     "text": [
      "Step 0 MSE = 227332.44\n",
      "Step 50 MSE = nan\n",
      "Step 100 MSE = nan\n",
      "Step 150 MSE = nan\n",
      "Step 200 MSE = nan\n",
      "Step 250 MSE = nan\n",
      "Step 300 MSE = nan\n",
      "Step 350 MSE = nan\n",
      "Step 400 MSE = nan\n",
      "Step 450 MSE = nan\n",
      "Step 500 MSE = nan\n",
      "Step 550 MSE = nan\n",
      "Step 600 MSE = nan\n",
      "Step 650 MSE = nan\n",
      "Step 700 MSE = nan\n",
      "Step 750 MSE = nan\n",
      "Step 800 MSE = nan\n",
      "Step 850 MSE = nan\n",
      "Step 900 MSE = nan\n",
      "Step 950 MSE = nan\n"
     ]
    }
   ],
   "source": [
    "# Partial solution\n",
    "# (Please have a look on the online API documentation. They are very useful.)\n",
    "\n",
    "n_steps = 1000 # number of training epochs\n",
    "learn_rate = 0.001 # learning rate (see how it's used to update weight below)\n",
    "\n",
    "X = tf.constant(boston_features, dtype=tf.float32, name=\"X\")\n",
    "y = tf.constant(boston.target.reshape(-1, 1), dtype=tf.float32, name=\"y\")\n",
    "w = tf.Variable(tf.random_uniform([n+1,1], -1.0, 1.0), name=\"w\") # get a random tensor with uniform distribution\n",
    "y_hat = tf.matmul(X, w, name=\"y_hat\") \n",
    "error = y_hat - y\n",
    "mse = tf.reduce_mean(tf.square(error), name=\"mse\") \n",
    "\n",
    "gradients = tf.gradients(mse, [w])[0] # compute a gradient of mse with respect to the weight vector\n",
    "train_step = tf.assign(w, w - learn_rate * gradients) # compute and assign the new weight to w\n",
    "\n",
    "init = tf.global_variables_initializer()\n",
    "with tf.Session() as sess:\n",
    "    sess.run(init)\n",
    "    \n",
    "    for step in range(n_steps):\n",
    "        if step % 50 == 0:\n",
    "            print(\"Step\", step, \"MSE =\", mse.eval())\n",
    "        sess.run(train_step)\n",
    "    \n",
    "    w_best = w.eval()"
   ]
  },
  {
   "cell_type": "markdown",
   "metadata": {},
   "source": [
    "*Exercise 3.2.* The gradient descent algorithm is really sensitive to the value of the learning rate. Try changing it by a few orders of magnitude and run the algorithm again."
   ]
  },
  {
   "cell_type": "code",
   "execution_count": 8,
   "metadata": {
    "collapsed": true
   },
   "outputs": [
    {
     "name": "stdout",
     "output_type": "stream",
     "text": [
      "Step 0 MSE = 160959.98\n",
      "Step 5000 MSE = nan\n",
      "Step 10000 MSE = nan\n",
      "Step 15000 MSE = nan\n",
      "Step 20000 MSE = nan\n",
      "Step 25000 MSE = nan\n",
      "Step 30000 MSE = nan\n",
      "Step 35000 MSE = nan\n",
      "Step 40000 MSE = nan\n",
      "Step 45000 MSE = nan\n",
      "Step 50000 MSE = nan\n",
      "Step 55000 MSE = nan\n",
      "Step 60000 MSE = nan\n",
      "Step 65000 MSE = nan\n",
      "Step 70000 MSE = nan\n",
      "Step 75000 MSE = nan\n",
      "Step 80000 MSE = nan\n",
      "Step 85000 MSE = nan\n",
      "Step 90000 MSE = nan\n",
      "Step 95000 MSE = nan\n",
      "Step 100000 MSE = nan\n",
      "Step 105000 MSE = nan\n",
      "Step 110000 MSE = nan\n",
      "Step 115000 MSE = nan\n",
      "Step 120000 MSE = nan\n",
      "Step 125000 MSE = nan\n",
      "Step 130000 MSE = nan\n",
      "Step 135000 MSE = nan\n",
      "Step 140000 MSE = nan\n",
      "Step 145000 MSE = nan\n",
      "Step 150000 MSE = nan\n",
      "Step 155000 MSE = nan\n",
      "Step 160000 MSE = nan\n",
      "Step 165000 MSE = nan\n",
      "Step 170000 MSE = nan\n",
      "Step 175000 MSE = nan\n",
      "Step 180000 MSE = nan\n",
      "Step 185000 MSE = nan\n",
      "Step 190000 MSE = nan\n",
      "Step 195000 MSE = nan\n"
     ]
    }
   ],
   "source": [
    "# Solution\n",
    "n_steps = 200000\n",
    "learn_rate = 0.001\n",
    "\n",
    "X = tf.constant(boston_features, dtype=tf.float32, name=\"X\")\n",
    "y = tf.constant(boston.target.reshape(-1, 1), dtype=tf.float32, name=\"y\")\n",
    "w = tf.Variable(tf.random_uniform([n+1,1], -1.0, 1.0), name=\"w\")\n",
    "y_hat = tf.matmul(X, w, name=\"y_hat\")\n",
    "error = y_hat - y\n",
    "mse = tf.reduce_mean(tf.square(error), name=\"mse\")\n",
    "\n",
    "gradients = tf.gradients(mse, [w])[0]\n",
    "train_step = tf.assign(w, w - learn_rate * gradients)\n",
    "\n",
    "init = tf.global_variables_initializer()\n",
    "with tf.Session() as sess:\n",
    "    sess.run(init)\n",
    "    \n",
    "    for step in range(n_steps):\n",
    "        if step % 5000 == 0:\n",
    "            print(\"Step\", step, \"MSE =\", mse.eval())\n",
    "        sess.run(train_step)\n",
    "    \n",
    "    w_best = w.eval()"
   ]
  },
  {
   "cell_type": "markdown",
   "metadata": {},
   "source": [
    "*Exercise 3.3.* Perform some feature scaling on the dataset (see lab 2), and run the gradient descent algorithm again. Do you see any difference in the result? What about the number of steps needed to converge to the optimum?"
   ]
  },
  {
   "cell_type": "code",
   "execution_count": 9,
   "metadata": {
    "collapsed": true
   },
   "outputs": [
    {
     "name": "stdout",
     "output_type": "stream",
     "text": [
      "Step 0 MSE = 588.8034\n",
      "Step 5000 MSE = 529.93774\n",
      "Step 10000 MSE = 529.7044\n",
      "Step 15000 MSE = 529.6451\n",
      "Step 20000 MSE = 529.6286\n",
      "Step 25000 MSE = 529.624\n",
      "Step 30000 MSE = 529.6227\n",
      "Step 35000 MSE = 529.62225\n",
      "Step 40000 MSE = 529.62225\n",
      "Step 45000 MSE = 529.6222\n",
      "Step 50000 MSE = 529.6222\n",
      "Step 55000 MSE = 529.6222\n",
      "Step 60000 MSE = 529.62225\n",
      "Step 65000 MSE = 529.6221\n",
      "Step 70000 MSE = 529.6221\n",
      "Step 75000 MSE = 529.6221\n",
      "Step 80000 MSE = 529.6221\n",
      "Step 85000 MSE = 529.6221\n",
      "Step 90000 MSE = 529.6221\n",
      "Step 95000 MSE = 529.6221\n",
      "Step 100000 MSE = 529.6221\n",
      "Step 105000 MSE = 529.6221\n",
      "Step 110000 MSE = 529.6221\n",
      "Step 115000 MSE = 529.6221\n",
      "Step 120000 MSE = 529.6221\n",
      "Step 125000 MSE = 529.6221\n",
      "Step 130000 MSE = 529.6221\n",
      "Step 135000 MSE = 529.6221\n",
      "Step 140000 MSE = 529.6221\n",
      "Step 145000 MSE = 529.6221\n",
      "Step 150000 MSE = 529.6221\n",
      "Step 155000 MSE = 529.6221\n",
      "Step 160000 MSE = 529.6221\n",
      "Step 165000 MSE = 529.6221\n",
      "Step 170000 MSE = 529.6221\n",
      "Step 175000 MSE = 529.6221\n",
      "Step 180000 MSE = 529.6221\n",
      "Step 185000 MSE = 529.6221\n",
      "Step 190000 MSE = 529.6221\n",
      "Step 195000 MSE = 529.6221\n"
     ]
    }
   ],
   "source": [
    "# Solution (with StandardScaler)\n",
    "from sklearn.preprocessing import StandardScaler\n",
    "\n",
    "scaler = StandardScaler()\n",
    "scaler.fit(boston_features)\n",
    "scaled_boston_features = scaler.transform(boston_features)\n",
    "\n",
    "n_steps = 200000\n",
    "learn_rate = 0.001\n",
    "\n",
    "scaled_X = tf.constant(scaled_boston_features, dtype=tf.float32, name=\"X\")\n",
    "y = tf.constant(boston.target.reshape(-1, 1), dtype=tf.float32, name=\"y\")\n",
    "w = tf.Variable(tf.random_uniform([n+1,1], -1.0, 1.0), name=\"w\")\n",
    "y_hat = tf.matmul(scaled_X, w, name=\"y_hat\")\n",
    "error = y_hat - y\n",
    "mse = tf.reduce_mean(tf.square(error), name=\"mse\")\n",
    "\n",
    "gradients = tf.gradients(mse, [w])[0]\n",
    "train_step = tf.assign(w, w - learn_rate * gradients)\n",
    "\n",
    "init = tf.global_variables_initializer()\n",
    "with tf.Session() as sess:\n",
    "    sess.run(init)\n",
    "    \n",
    "    for step in range(n_steps):\n",
    "        if step % 5000 == 0:\n",
    "            print(\"Step\", step, \"MSE =\", mse.eval())\n",
    "        sess.run(train_step)\n",
    "    \n",
    "    w_best = w.eval()"
   ]
  },
  {
   "cell_type": "code",
   "execution_count": 10,
   "metadata": {
    "collapsed": true
   },
   "outputs": [
    {
     "name": "stdout",
     "output_type": "stream",
     "text": [
      "Step 0 MSE = 609.12445\n",
      "Step 5000 MSE = 46.559822\n",
      "Step 10000 MSE = 37.72247\n",
      "Step 15000 MSE = 33.474915\n",
      "Step 20000 MSE = 31.218117\n",
      "Step 25000 MSE = 29.937883\n",
      "Step 30000 MSE = 29.173481\n",
      "Step 35000 MSE = 28.696602\n",
      "Step 40000 MSE = 28.38676\n",
      "Step 45000 MSE = 28.177408\n",
      "Step 50000 MSE = 28.03053\n",
      "Step 55000 MSE = 27.923773\n",
      "Step 60000 MSE = 27.843622\n",
      "Step 65000 MSE = 27.781767\n",
      "Step 70000 MSE = 27.732798\n",
      "Step 75000 MSE = 27.693335\n",
      "Step 80000 MSE = 27.661036\n",
      "Step 85000 MSE = 27.634295\n",
      "Step 90000 MSE = 27.611856\n",
      "Step 95000 MSE = 27.592995\n",
      "Step 100000 MSE = 27.57697\n",
      "Step 105000 MSE = 27.563313\n",
      "Step 110000 MSE = 27.55155\n",
      "Step 115000 MSE = 27.541542\n",
      "Step 120000 MSE = 27.53283\n",
      "Step 125000 MSE = 27.525372\n",
      "Step 130000 MSE = 27.518795\n",
      "Step 135000 MSE = 27.513226\n",
      "Step 140000 MSE = 27.508333\n",
      "Step 145000 MSE = 27.503998\n",
      "Step 150000 MSE = 27.50026\n",
      "Step 155000 MSE = 27.49704\n",
      "Step 160000 MSE = 27.49418\n",
      "Step 165000 MSE = 27.491657\n",
      "Step 170000 MSE = 27.4894\n",
      "Step 175000 MSE = 27.487436\n",
      "Step 180000 MSE = 27.485743\n",
      "Step 185000 MSE = 27.484262\n",
      "Step 190000 MSE = 27.48296\n",
      "Step 195000 MSE = 27.48179\n"
     ]
    }
   ],
   "source": [
    "# Solution (with MinMaxScaler)\n",
    "from sklearn.preprocessing import MinMaxScaler\n",
    "\n",
    "scaler = MinMaxScaler()\n",
    "scaler.fit(boston_features)\n",
    "scaled_boston_features = scaler.transform(boston_features)\n",
    "\n",
    "n_steps = 200000\n",
    "learn_rate = 0.001\n",
    "\n",
    "scaled_X = tf.constant(scaled_boston_features, dtype=tf.float32, name=\"X\")\n",
    "y = tf.constant(boston.target.reshape(-1, 1), dtype=tf.float32, name=\"y\")\n",
    "w = tf.Variable(tf.random_uniform([n+1,1], -1.0, 1.0), name=\"w\")\n",
    "y_hat = tf.matmul(scaled_X, w, name=\"y_hat\")\n",
    "error = y_hat - y\n",
    "mse = tf.reduce_mean(tf.square(error), name=\"mse\")\n",
    "\n",
    "gradients = tf.gradients(mse, [w])[0]\n",
    "train_step = tf.assign(w, w - learn_rate * gradients)\n",
    "\n",
    "init = tf.global_variables_initializer()\n",
    "with tf.Session() as sess:\n",
    "    sess.run(init)\n",
    "    \n",
    "    for step in range(n_steps):\n",
    "        if step % 5000 == 0:\n",
    "            print(\"Step\", step, \"MSE =\", mse.eval())\n",
    "        sess.run(train_step)\n",
    "    \n",
    "    w_best = w.eval()"
   ]
  },
  {
   "cell_type": "markdown",
   "metadata": {
    "colab_type": "text",
    "id": "RcYiUxtkianY"
   },
   "source": [
    "## 4. Principal component analysis\n",
    "In order to improve our familiarity with Tensorflow, we play with a different topic here. One of the main problem in machine learning is how to visualise multi-dimensional data. In the case of the boston house price dataset, we have 13 input features. Can we plot this 13-dimensional space on a 2-dimensional page somehow?\n",
    "\n",
    "A possible solution is to use principal component analysis (PCA in short). This is an intriguing linear algebraic method that takes a cloud of multidimensional datapoints and create a new set of axes (aka components). The method extract the components that exhibit the largest variance in the data, thus spreading the datapoints as much as possible.\n",
    "\n",
    "In the code below, we implement PCA using Tensorflow's built-in singular value decomposition algorithm (SVD):"
   ]
  },
  {
   "cell_type": "code",
   "execution_count": 56,
   "metadata": {
    "colab": {},
    "colab_type": "code",
    "collapsed": true,
    "id": "F_Kxfu44ianZ"
   },
   "outputs": [
    {
     "data": {
      "text/plain": [
       "[<matplotlib.lines.Line2D at 0x24cf0f3d248>]"
      ]
     },
     "execution_count": 56,
     "metadata": {},
     "output_type": "execute_result"
    },
    {
     "data": {
      "image/png": "[encoded data removed]",
      "text/plain": [
       "<Figure size 432x288 with 1 Axes>"
      ]
     },
     "metadata": {
      "needs_background": "light"
     },
     "output_type": "display_data"
    }
   ],
   "source": [
    "import matplotlib.pyplot as plt\n",
    "\n",
    "s, u, v = tf.svd(X)\n",
    "P_comp = tf.slice(v, [0, 0], [n + 1, 1])\n",
    "X_proj = tf.matmul(X, P_comp)\n",
    "\n",
    "with tf.Session() as sess:\n",
    "    sess.run(X_proj)\n",
    "    X_final = X_proj.eval()\n",
    "\n",
    "plt.figure()\n",
    "plt.plot(X_final, boston.target, \".\")"
   ]
  },
  {
   "cell_type": "markdown",
   "metadata": {
    "colab_type": "text",
    "id": "53PPWu2-iane"
   },
   "source": [
    "*Exercise 4.1.* The code above plots the data along the first principal component. Modify the code to plot along the second."
   ]
  },
  {
   "cell_type": "code",
   "execution_count": 57,
   "metadata": {
    "collapsed": true
   },
   "outputs": [
    {
     "data": {
      "text/plain": [
       "[<matplotlib.lines.Line2D at 0x24cf0fa3948>]"
      ]
     },
     "execution_count": 57,
     "metadata": {},
     "output_type": "execute_result"
    },
    {
     "data": {
      "image/png": "[encoded data removed]",
      "text/plain": [
       "<Figure size 432x288 with 1 Axes>"
      ]
     },
     "metadata": {
      "needs_background": "light"
     },
     "output_type": "display_data"
    }
   ],
   "source": [
    "# Solution\n",
    "\n",
    "P_comp2 = tf.slice(v, [0, 1], [n + 1, 1])\n",
    "X_proj = tf.matmul(X, P_comp2)\n",
    "\n",
    "with tf.Session() as sess:\n",
    "    sess.run(X_proj)\n",
    "    X_final = X_proj.eval()\n",
    "\n",
    "plt.figure()\n",
    "plt.plot(X_final, boston.target, \".\")"
   ]
  },
  {
   "cell_type": "markdown",
   "metadata": {},
   "source": [
    "*Exercise 4.2.* Does the result change if we perform feature scaling (see lab 2) before running the PCA algorithm?"
   ]
  },
  {
   "cell_type": "code",
   "execution_count": 12,
   "metadata": {
    "collapsed": true
   },
   "outputs": [
    {
     "data": {
      "text/plain": [
       "[<matplotlib.lines.Line2D at 0x228ffe05a08>]"
      ]
     },
     "execution_count": 12,
     "metadata": {},
     "output_type": "execute_result"
    },
    {
     "data": {
      "image/png": "[encoded data removed]",
      "text/plain": [
       "<Figure size 432x288 with 1 Axes>"
      ]
     },
     "metadata": {
      "needs_background": "light"
     },
     "output_type": "display_data"
    }
   ],
   "source": [
    "# Solution (with StandardScaler)\n",
    "import matplotlib.pyplot as plt\n",
    "from sklearn.preprocessing import StandardScaler\n",
    "\n",
    "scaler = StandardScaler()\n",
    "scaler.fit(boston_features)\n",
    "scaled_boston_features = scaler.transform(boston_features)\n",
    "scaled_X = tf.constant(scaled_boston_features, dtype=tf.float32, name=\"X\")\n",
    "\n",
    "s, u, v = tf.svd(scaled_X)\n",
    "P_comp = tf.slice(v, [0, 0], [n + 1, 1])\n",
    "X_proj = tf.matmul(scaled_X, P_comp)\n",
    "\n",
    "with tf.Session() as sess:\n",
    "    sess.run(X_proj)\n",
    "    X_final = X_proj.eval()\n",
    "\n",
    "plt.figure()\n",
    "plt.plot(X_final, boston.target, \".\")"
   ]
  },
  {
   "cell_type": "code",
   "execution_count": 13,
   "metadata": {
    "collapsed": true
   },
   "outputs": [
    {
     "data": {
      "text/plain": [
       "[<matplotlib.lines.Line2D at 0x228ffe954c8>]"
      ]
     },
     "execution_count": 13,
     "metadata": {},
     "output_type": "execute_result"
    },
    {
     "data": {
      "image/png": "[encoded data removed]",
      "text/plain": [
       "<Figure size 432x288 with 1 Axes>"
      ]
     },
     "metadata": {
      "needs_background": "light"
     },
     "output_type": "display_data"
    }
   ],
   "source": [
    "# Solution (with MaxMinScaler)\n",
    "import matplotlib.pyplot as plt\n",
    "from sklearn.preprocessing import MinMaxScaler\n",
    "\n",
    "scaler = MinMaxScaler()\n",
    "scaler.fit(boston_features)\n",
    "scaled_boston_features = scaler.transform(boston_features)\n",
    "scaled_X = tf.constant(scaled_boston_features, dtype=tf.float32, name=\"X\")\n",
    "\n",
    "s, u, v = tf.svd(scaled_X)\n",
    "P_comp = tf.slice(v, [0, 0], [n + 1, 1])\n",
    "X_proj = tf.matmul(scaled_X, P_comp)\n",
    "\n",
    "with tf.Session() as sess:\n",
    "    sess.run(X_proj)\n",
    "    X_final = X_proj.eval()\n",
    "\n",
    "plt.figure()\n",
    "plt.plot(X_final, boston.target, \".\")"
   ]
  }
 ],
 "metadata": {
  "colab": {
   "collapsed_sections": [],
   "name": "lab4.ipynb",
   "provenance": [],
   "version": "0.3.2"
  },
  "kernelspec": {
   "display_name": "Python 3",
   "language": "python",
   "name": "python3"
  },
  "language_info": {
   "codemirror_mode": {
    "name": "ipython",
    "version": 3
   },
   "file_extension": ".py",
   "mimetype": "text/x-python",
   "name": "python",
   "nbconvert_exporter": "python",
   "pygments_lexer": "ipython3",
   "version": "3.7.4"
  }
 },
 "nbformat": 4,
 "nbformat_minor": 1
}
